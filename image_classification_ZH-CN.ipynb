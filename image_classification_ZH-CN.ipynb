{
 "cells": [
  {
   "cell_type": "markdown",
   "metadata": {
    "collapsed": true,
    "deletable": true,
    "editable": true
   },
   "source": [
    "# Image Classification\n",
    "In this project, you'll classify images from the [CIFAR-10 dataset](https://www.cs.toronto.edu/~kriz/cifar.html).  The dataset consists of airplanes, dogs, cats, and other objects. You'll preprocess the images, then train a convolutional neural network on all the samples. The images need to be normalized and the labels need to be one-hot encoded.  You'll get to apply what you learned and build a convolutional, max pooling, dropout, and fully connected layers.  At the end, you'll get to see your neural network's predictions on the sample images.\n",
    "## Get the Data\n",
    "Run the following cell to download the [CIFAR-10 dataset for python](https://www.cs.toronto.edu/~kriz/cifar-10-python.tar.gz)."
   ]
  },
  {
   "cell_type": "markdown",
   "metadata": {
    "deletable": true,
    "editable": true
   },
   "source": [
    "\n",
    "# 图像分类\n",
    "\n",
    "在该项目中，你将会对来自 [CIFAR-10 数据集](https://www.cs.toronto.edu/~kriz/cifar.html) 中的图像进行分类。数据集中图片的内容包括飞机（airplane）、狗（dogs）、猫（cats）及其他物体。你需要处理这些图像，接着对所有的样本训练一个卷积神经网络。\n",
    "\n",
    "具体而言，在项目中你要对图像进行正规化处理（normalization)，同时还要对图像的标签进行 one-hot 编码。接着你将会应用到你所学的技能来搭建一个具有卷积层、最大池化（Max Pooling）层、Dropout  层及全连接（fully connected）层的神经网络。最后，你会训练你的神经网络，会得到你神经网络在样本图像上的预测结果。\n",
    "\n",
    "## 下载数据\n",
    "\n",
    "运行如下代码下载 [CIFAR-10 dataset for python](https://www.cs.toronto.edu/~kriz/cifar-10-python.tar.gz)。"
   ]
  },
  {
   "cell_type": "code",
   "execution_count": 3,
   "metadata": {
    "collapsed": false,
    "deletable": true,
    "editable": true
   },
   "outputs": [
    {
     "name": "stdout",
     "output_type": "stream",
     "text": [
      "All files found!\n"
     ]
    }
   ],
   "source": [
    "\"\"\"\n",
    "DON'T MODIFY ANYTHING IN THIS CELL THAT IS BELOW THIS LINE\n",
    "\"\"\"\n",
    "from urllib.request import urlretrieve\n",
    "from os.path import isfile, isdir\n",
    "from tqdm import tqdm\n",
    "import problem_unittests as tests\n",
    "import tarfile\n",
    "\n",
    "cifar10_dataset_folder_path = 'cifar-10-batches-py'\n",
    "\n",
    "class DLProgress(tqdm):\n",
    "    last_block = 0\n",
    "\n",
    "    def hook(self, block_num=1, block_size=1, total_size=None):\n",
    "        self.total = total_size\n",
    "        self.update((block_num - self.last_block) * block_size)\n",
    "        self.last_block = block_num\n",
    "\n",
    "if not isfile('cifar-10-python.tar.gz'):\n",
    "    with DLProgress(unit='B', unit_scale=True, miniters=1, desc='CIFAR-10 Dataset') as pbar:\n",
    "        urlretrieve(\n",
    "            'https://www.cs.toronto.edu/~kriz/cifar-10-python.tar.gz',\n",
    "            'cifar-10-python.tar.gz',\n",
    "            pbar.hook)\n",
    "\n",
    "if not isdir(cifar10_dataset_folder_path):\n",
    "    with tarfile.open('cifar-10-python.tar.gz') as tar:\n",
    "        tar.extractall()\n",
    "        tar.close()\n",
    "\n",
    "\n",
    "tests.test_folder_path(cifar10_dataset_folder_path)"
   ]
  },
  {
   "cell_type": "markdown",
   "metadata": {
    "deletable": true,
    "editable": true
   },
   "source": [
    "## Explore the Data\n",
    "The dataset is broken into batches to prevent your machine from running out of memory.  The CIFAR-10 dataset consists of 5 batches, named `data_batch_1`, `data_batch_2`, etc.. Each batch contains the labels and images that are one of the following:\n",
    "* airplane\n",
    "* automobile\n",
    "* bird\n",
    "* cat\n",
    "* deer\n",
    "* dog\n",
    "* frog\n",
    "* horse\n",
    "* ship\n",
    "* truck\n",
    "\n",
    "Understanding a dataset is part of making predictions on the data.  Play around with the code cell below by changing the `batch_id` and `sample_id`. The `batch_id` is the id for a batch (1-5). The `sample_id` is the id for a image and label pair in the batch.\n",
    "\n",
    "Ask yourself \"What are all possible labels?\", \"What is the range of values for the image data?\", \"Are the labels in order or random?\".  Answers to questions like these will help you preprocess the data and end up with better predictions."
   ]
  },
  {
   "cell_type": "markdown",
   "metadata": {
    "deletable": true,
    "editable": true
   },
   "source": [
    "## 探索数据集\n",
    "\n",
    "\n",
    "为防止在运行过程中内存不足的问题，该数据集已经事先被分成了5批（batch），名为`data_batch_1`、`data_batch_2`等。每一批中都含有 *图像* 及对应的 *标签*，都是如下类别中的一种：\n",
    "\n",
    "* 飞机\n",
    "* 汽车\n",
    "* 鸟\n",
    "* 鹿\n",
    "* 狗\n",
    "* 青蛙\n",
    "* 马\n",
    "* 船\n",
    "* 卡车\n",
    "\n",
    "理解数据集也是对数据进行预测的一部分。修改如下代码中的 `batch_id` 和 `sample_id`，看看输出的图像是什么样子。其中，`batch_id` 代表着批次数（1-5），`sample_id` 代表着在该批内图像及标签的编号。\n",
    "\n",
    "你可以尝试回答如下问题：\n",
    "* 可能出现的 *标签* 都包括哪些？\n",
    "* 图像数据的取值范围是多少？\n",
    "* *标签* 的排列顺序是随机的还是有序的？\n",
    "\n",
    "对这些问题的回答，会有助于更好地处理数据，并能更好地进行预测。"
   ]
  },
  {
   "cell_type": "code",
   "execution_count": 4,
   "metadata": {
    "collapsed": false,
    "deletable": true,
    "editable": true
   },
   "outputs": [
    {
     "name": "stdout",
     "output_type": "stream",
     "text": [
      "\n",
      "Stats of batch 1:\n",
      "Samples: 10000\n",
      "Label Counts: {0: 1005, 1: 974, 2: 1032, 3: 1016, 4: 999, 5: 937, 6: 1030, 7: 1001, 8: 1025, 9: 981}\n",
      "First 20 Labels: [6, 9, 9, 4, 1, 1, 2, 7, 8, 3, 4, 7, 7, 2, 9, 9, 9, 3, 2, 6]\n",
      "\n",
      "Example of Image 5:\n",
      "Image - Min Value: 0 Max Value: 252\n",
      "Image - Shape: (32, 32, 3)\n",
      "Label - Label Id: 1 Name: automobile\n"
     ]
    },
    {
     "data": {
      "image/png": "[encoded data removed]",
      "text/plain": [
       "<matplotlib.figure.Figure at 0x2449dbe92e8>"
      ]
     },
     "metadata": {
      "image/png": {
       "height": 250,
       "width": 253
      }
     },
     "output_type": "display_data"
    }
   ],
   "source": [
    "%matplotlib inline\n",
    "%config InlineBackend.figure_format = 'retina'\n",
    "\n",
    "import helper\n",
    "import numpy as np\n",
    "\n",
    "# Explore the dataset\n",
    "batch_id = 1\n",
    "sample_id = 5\n",
    "helper.display_stats(cifar10_dataset_folder_path, batch_id, sample_id)"
   ]
  },
  {
   "cell_type": "markdown",
   "metadata": {
    "deletable": true,
    "editable": true
   },
   "source": [
    "## Implement Preprocess Functions\n",
    "### Normalize\n",
    "In the cell below, implement the `normalize` function to take in image data, `x`, and return it as a normalized Numpy array. The values should be in the range of 0 to 1, inclusive.  The return object should be the same shape as `x`."
   ]
  },
  {
   "cell_type": "markdown",
   "metadata": {
    "deletable": true,
    "editable": true
   },
   "source": [
    "## 图像预处理功能的实现\n",
    "### 正规化\n",
    "\n",
    "在如下的代码中，修改 `normalize` 函数，使之能够对输入的图像数据 `x` 进行处理，输出一个经过正规化的、Numpy array 格式的图像数据。\n",
    "\n",
    "**注意：**\n",
    "处理后的值应当在 $[0,1]$ 的范围之内。返回值应当和输入值具有相同的形状。"
   ]
  },
  {
   "cell_type": "code",
   "execution_count": 5,
   "metadata": {
    "collapsed": false,
    "deletable": true,
    "editable": true
   },
   "outputs": [
    {
     "name": "stdout",
     "output_type": "stream",
     "text": [
      "Tests Passed\n"
     ]
    }
   ],
   "source": [
    "def normalize(x):\n",
    "\n",
    "    # Allocate ndarray for normalized images.\n",
    "    normalized_x = np.zeros(tuple(x.shape))\n",
    "    nr_images = x.shape[0]\n",
    "    # Compute max/min values.\n",
    "    max_val, min_val = x.max(), x.min()\n",
    "    # Transform every image.\n",
    "    for image_index in range(nr_images):\n",
    "        normalized_x[image_index,...] = (x[image_index, ...] - float(min_val)) / float(max_val - min_val)    \n",
    "    return normalized_x   \n",
    "\n",
    "\n",
    "\n",
    "\"\"\"\n",
    "DON'T MODIFY ANYTHING IN THIS CELL THAT IS BELOW THIS LINE\n",
    "\"\"\"\n",
    "tests.test_normalize(normalize)"
   ]
  },
  {
   "cell_type": "markdown",
   "metadata": {
    "deletable": true,
    "editable": true
   },
   "source": [
    "### One-hot encode\n",
    "Just like the previous code cell, you'll be implementing a function for preprocessing.  This time, you'll implement the `one_hot_encode` function. The input, `x`, are a list of labels.  Implement the function to return the list of labels as One-Hot encoded Numpy array.  The possible values for labels are 0 to 9. The one-hot encoding function should return the same encoding for each value between each call to `one_hot_encode`.  Make sure to save the map of encodings outside the function.\n",
    "\n",
    "**Hint:**\n",
    "\n",
    "Look into LabelBinarizer in the preprocessing module of sklearn."
   ]
  },
  {
   "cell_type": "markdown",
   "metadata": {
    "deletable": true,
    "editable": true
   },
   "source": [
    "### One-hot 编码\n",
    "\n",
    "在如下代码中，你将继续实现预处理的功能，实现一个 `one_hot_encode` 函数。函数的输入 `x` 是 *标签* 构成的列表，返回值是经过 One_hot 处理过后的这列 *标签* 对应的 One_hot 编码，以 Numpy array 储存。其中，*标签* 的取值范围从0到9。每次调用该函数时，对相同的标签值，它输出的编码也是相同的。请确保在函数外保存编码的映射（map of encodings）。\n",
    "\n",
    "**提示：**\n",
    "\n",
    "你可以尝试使用 sklearn preprocessing 模块中的 `LabelBinarizer` 函数。"
   ]
  },
  {
   "cell_type": "code",
   "execution_count": 6,
   "metadata": {
    "collapsed": false,
    "deletable": true,
    "editable": true
   },
   "outputs": [
    {
     "name": "stdout",
     "output_type": "stream",
     "text": [
      "Tests Passed\n"
     ]
    }
   ],
   "source": [
    "def one_hot_encode(x,n_values=10):\n",
    "    \"\"\"\n",
    "    One hot encode a list of sample labels. Return a one-hot encoded vector for each label.\n",
    "    : x: List of sample Labels\n",
    "    : return: Numpy array of one-hot encoded labels\n",
    "    \"\"\"\n",
    "    from sklearn.preprocessing import OneHotEncoder\n",
    "    enc = OneHotEncoder(n_values=n_values)    \n",
    "    one_hot_encoded_labels = enc.fit_transform(np.array(x).reshape(-1, 1)).toarray()\n",
    "    return one_hot_encoded_labels\n",
    "\n",
    "\n",
    "\n",
    "\"\"\"\n",
    "DON'T MODIFY ANYTHING IN THIS CELL THAT IS BELOW THIS LINE\n",
    "\"\"\"\n",
    "tests.test_one_hot_encode(one_hot_encode)"
   ]
  },
  {
   "cell_type": "markdown",
   "metadata": {
    "deletable": true,
    "editable": true
   },
   "source": [
    "### Randomize Data\n",
    "As you saw from exploring the data above, the order of the samples are randomized.  It doesn't hurt to randomize it again, but you don't need to for this dataset."
   ]
  },
  {
   "cell_type": "markdown",
   "metadata": {
    "deletable": true,
    "editable": true
   },
   "source": [
    "### 随机打乱数据\n",
    "\n",
    "正如你在上方探索数据部分所看到的，样本的顺序已经被随机打乱了。尽管再随机处理一次也没问题，不过对于该数据我们没必要再进行一次相关操作了。"
   ]
  },
  {
   "cell_type": "markdown",
   "metadata": {
    "deletable": true,
    "editable": true
   },
   "source": [
    "## Preprocess all the data and save it\n",
    "Running the code cell below will preprocess all the CIFAR-10 data and save it to file. The code below also uses 10% of the training data for validation."
   ]
  },
  {
   "cell_type": "markdown",
   "metadata": {
    "deletable": true,
    "editable": true
   },
   "source": [
    "## 对所有图像数据进行预处理并保存结果\n",
    "\n",
    "运行如下代码，它将会预处理所有的 CIFAR-10 数据并将它另存为文件。此外，如下的代码还将会把 10% 的训练数据留出作为验证数据。"
   ]
  },
  {
   "cell_type": "code",
   "execution_count": 7,
   "metadata": {
    "collapsed": false,
    "deletable": true,
    "editable": true
   },
   "outputs": [],
   "source": [
    "\"\"\"\n",
    "DON'T MODIFY ANYTHING IN THIS CELL\n",
    "\"\"\"\n",
    "# Preprocess Training, Validation, and Testing Data\n",
    "helper.preprocess_and_save_data(cifar10_dataset_folder_path, normalize, one_hot_encode)"
   ]
  },
  {
   "cell_type": "markdown",
   "metadata": {
    "deletable": true,
    "editable": true
   },
   "source": [
    "# Check Point\n",
    "This is your first checkpoint.  If you ever decide to come back to this notebook or have to restart the notebook, you can start from here.  The preprocessed data has been saved to disk."
   ]
  },
  {
   "cell_type": "markdown",
   "metadata": {
    "deletable": true,
    "editable": true
   },
   "source": [
    "# 检查点\n",
    "\n",
    "这是你的首个检查点。因为预处理完的数据已经被保存到硬盘上了，所以如果你需要回顾或重启该 notebook，你可以在这里重新开始。"
   ]
  },
  {
   "cell_type": "code",
   "execution_count": 8,
   "metadata": {
    "collapsed": true,
    "deletable": true,
    "editable": true
   },
   "outputs": [],
   "source": [
    "\"\"\"\n",
    "DON'T MODIFY ANYTHING IN THIS CELL\n",
    "\"\"\"\n",
    "import pickle\n",
    "import problem_unittests as tests\n",
    "import helper\n",
    "\n",
    "# Load the Preprocessed Validation data\n",
    "valid_features, valid_labels = pickle.load(open('preprocess_validation.p', mode='rb'))"
   ]
  },
  {
   "cell_type": "markdown",
   "metadata": {
    "deletable": true,
    "editable": true
   },
   "source": [
    "## Build the network\n",
    "For the neural network, you'll build each layer into a function.  Most of the code you've seen has been outside of functions. To test your code more thoroughly, we require that you put each layer in a function.  This allows us to give you better feedback and test for simple mistakes using our unittests before you submit your project.\n",
    "\n",
    ">**Note:** If you're finding it hard to dedicate enough time for this course each week, we've provided a small shortcut to this part of the project. In the next couple of problems, you'll have the option to use classes from the [TensorFlow Layers](https://www.tensorflow.org/api_docs/python/tf/layers) or [TensorFlow Layers (contrib)](https://www.tensorflow.org/api_guides/python/contrib.layers) packages to build each layer, except the layers you build in the \"Convolutional and Max Pooling Layer\" section.  TF Layers is similar to Keras's and TFLearn's abstraction to layers, so it's easy to pickup.\n",
    "\n",
    ">However, if you would like to get the most out of this course, try to solve all the problems _without_ using anything from the TF Layers packages. You **can** still use classes from other packages that happen to have the same name as ones you find in TF Layers! For example, instead of using the TF Layers version of the `conv2d` class, [tf.layers.conv2d](https://www.tensorflow.org/api_docs/python/tf/layers/conv2d), you would want to use the TF Neural Network version of `conv2d`, [tf.nn.conv2d](https://www.tensorflow.org/api_docs/python/tf/nn/conv2d). \n",
    "\n",
    "Let's begin!\n",
    "\n",
    "### Input\n",
    "The neural network needs to read the image data, one-hot encoded labels, and dropout keep probability. Implement the following functions\n",
    "* Implement `neural_net_image_input`\n",
    " * Return a [TF Placeholder](https://www.tensorflow.org/api_docs/python/tf/placeholder)\n",
    " * Set the shape using `image_shape` with batch size set to `None`.\n",
    " * Name the TensorFlow placeholder \"x\" using the TensorFlow `name` parameter in the [TF Placeholder](https://www.tensorflow.org/api_docs/python/tf/placeholder).\n",
    "* Implement `neural_net_label_input`\n",
    " * Return a [TF Placeholder](https://www.tensorflow.org/api_docs/python/tf/placeholder)\n",
    " * Set the shape using `n_classes` with batch size set to `None`.\n",
    " * Name the TensorFlow placeholder \"y\" using the TensorFlow `name` parameter in the [TF Placeholder](https://www.tensorflow.org/api_docs/python/tf/placeholder).\n",
    "* Implement `neural_net_keep_prob_input`\n",
    " * Return a [TF Placeholder](https://www.tensorflow.org/api_docs/python/tf/placeholder) for dropout keep probability.\n",
    " * Name the TensorFlow placeholder \"keep_prob\" using the TensorFlow `name` parameter in the [TF Placeholder](https://www.tensorflow.org/api_docs/python/tf/placeholder).\n",
    "\n",
    "These names will be used at the end of the project to load your saved model.\n",
    "\n",
    "Note: `None` for shapes in TensorFlow allow for a dynamic size."
   ]
  },
  {
   "cell_type": "markdown",
   "metadata": {
    "deletable": true,
    "editable": true
   },
   "source": [
    "## 搭建神经网络\n",
    "\n",
    "为搭建神经网络，你需要将搭建每一层的过程封装到一个函数中。大部分的代码你在函数外已经见过。为能够更透彻地测试你的代码，我们要求你把每一层都封装到一个函数中。这能够帮助我们给予你更好的回复，同时还能让我们使用 unittests 在你提交报告前检测出你项目中的小问题。\n",
    "\n",
    ">**注意：** 如果你时间紧迫，那么在该部分我们为你提供了一个便捷方法。在接下来的一些问题中，你可以使用来自 [TensorFlow Layers](https://www.tensorflow.org/api_docs/python/tf/layers) 或 [TensorFlow Layers (contrib)](https://www.tensorflow.org/api_guides/python/contrib.layers) 包中的函数来搭建各层，不过不可以用他们搭建卷积-最大池化层。TF Layers 和 Keras 及 TFLean 中对层的抽象比较相似，所以你应该很容易上手。\n",
    "\n",
    ">\n",
    "\n",
    "\n",
    "However, if you would like to get the most out of this course, try to solve all the problems _without_ using anything from the TF Layers packages. You **can** still use classes from other packages that happen to have the same name as ones you find in TF Layers! For example, instead of using the TF Layers version of the `conv2d` class, [tf.layers.conv2d](https://www.tensorflow.org/api_docs/python/tf/layers/conv2d), you would want to use the TF Neural Network version of `conv2d`, [tf.nn.conv2d](https://www.tensorflow.org/api_docs/python/tf/nn/conv2d). \n",
    "\n",
    "不过，如果你希望能够更多地实践，我们希望你能够在**不**使用 TF Layers 的情况下解决所有问题。你依然**能**使用来自其他包但和 layers 中重名的函数。例如，你可以使用 TF Neural Network 版本的 `conv_2d\n",
    "\n",
    "让我们开始吧！\n",
    "\n",
    "### 输入\n",
    "\n",
    "神经网络需要能够读取图像数据、经 one-hot 编码之后的标签及 dropout 中的保留概率。修改如下函数：\n",
    "\n",
    "* 修改 `neural_net_image_input` 函数：\n",
    " * 返回 [TF Placeholder](https://www.tensorflow.org/api_docs/python/tf/placeholder)。\n",
    " * 使用 `image_shape` 设定形状，设定批大小（batch size)为 `None`。\n",
    " * 使用 [TF Placeholder](https://www.tensorflow.org/api_docs/python/tf/placeholder) 中的 `Name` 参数，命名该 TensorFlow placeholder 为 \"x\"。\n",
    "* 修改 `neural_net_label_input` 函数： \n",
    " * 返回 [TF Placeholder](https://www.tensorflow.org/api_docs/python/tf/placeholder)。\n",
    " * 使用 `n_classes` 设定形状，设定批大小（batch size)为 `None`。\n",
    " * 使用 [TF Placeholder](https://www.tensorflow.org/api_docs/python/tf/placeholder) 中的 `Name` 参数，命名该 TensorFlow placeholder 为 \"y\"。\n",
    "* 修改 `neural_net_keep_prob_input` 函数：\n",
    " * 返回 [TF Placeholder](https://www.tensorflow.org/api_docs/python/tf/placeholder) 作为 dropout 的保留概率（keep probability）。\n",
    " * 使用 [TF Placeholder](https://www.tensorflow.org/api_docs/python/tf/placeholder) 中的 `Name` 参数，命名该 TensorFlow placeholder 为 \"keep_prob\"。\n",
    " \n",
    "我们会在项目最后使用这些名字，来载入你储存的模型。\n",
    "\n",
    "**注意：**在 TensorFlow 中，对形状设定为 `None`，能帮助设定一个动态的大小。"
   ]
  },
  {
   "cell_type": "code",
   "execution_count": 9,
   "metadata": {
    "collapsed": false,
    "deletable": true,
    "editable": true
   },
   "outputs": [
    {
     "name": "stdout",
     "output_type": "stream",
     "text": [
      "Image Input Tests Passed.\n",
      "Label Input Tests Passed.\n",
      "Keep Prob Tests Passed.\n"
     ]
    }
   ],
   "source": [
    "import tensorflow as tf\n",
    "\n",
    "def neural_net_image_input(image_shape):\n",
    "    \"\"\"\n",
    "    Return a Tensor for a batch of image input\n",
    "    : image_shape: Shape of the images\n",
    "    : return: Tensor for image input.\n",
    "    \"\"\"\n",
    "    # TODO: Implement Function\n",
    "    return tf.placeholder(tf.float32, shape=((None,) + image_shape), name='x')\n",
    "\n",
    "\n",
    "def neural_net_label_input(n_classes):\n",
    "    \"\"\"\n",
    "    Return a Tensor for a batch of label input\n",
    "    : n_classes: Number of classes\n",
    "    : return: Tensor for label input.\n",
    "    \"\"\"\n",
    "    # TODO: Implement Function\n",
    "    return tf.placeholder(tf.float32, shape=(None, n_classes), name='y')\n",
    "\n",
    "\n",
    "def neural_net_keep_prob_input():\n",
    "    \"\"\"\n",
    "    Return a Tensor for keep probability\n",
    "    : return: Tensor for keep probability.\n",
    "    \"\"\"\n",
    "    # TODO: Implement Function\n",
    "    return tf.placeholder(tf.float32, shape=(None), name='keep_prob')\n",
    "\n",
    "\n",
    "\"\"\"\n",
    "DON'T MODIFY ANYTHING IN THIS CELL THAT IS BELOW THIS LINE\n",
    "\"\"\"\n",
    "tf.reset_default_graph()\n",
    "tests.test_nn_image_inputs(neural_net_image_input)\n",
    "tests.test_nn_label_inputs(neural_net_label_input)\n",
    "tests.test_nn_keep_prob_inputs(neural_net_keep_prob_input)"
   ]
  },
  {
   "cell_type": "markdown",
   "metadata": {
    "deletable": true,
    "editable": true
   },
   "source": [
    "### Convolution and Max Pooling Layer\n",
    "Convolution layers have a lot of success with images. For this code cell, you should implement the function `conv2d_maxpool` to apply convolution then max pooling:\n",
    "* Create the weight and bias using `conv_ksize`, `conv_num_outputs` and the shape of `x_tensor`.\n",
    "* Apply a convolution to `x_tensor` using weight and `conv_strides`.\n",
    " * We recommend you use same padding, but you're welcome to use any padding.\n",
    "* Add bias\n",
    "* Add a nonlinear activation to the convolution.\n",
    "* Apply Max Pooling using `pool_ksize` and `pool_strides`.\n",
    " * We recommend you use same padding, but you're welcome to use any padding.\n",
    "\n",
    "**Note:** You **can't** use [TensorFlow Layers](https://www.tensorflow.org/api_docs/python/tf/layers) or [TensorFlow Layers (contrib)](https://www.tensorflow.org/api_guides/python/contrib.layers) for **this** layer, but you can still use TensorFlow's [Neural Network](https://www.tensorflow.org/api_docs/python/tf/nn) package. You may still use the shortcut option for all the **other** layers.\n",
    "\n",
    "** Hint: **\n",
    "\n",
    "When unpacking values as an argument in Python, look into the [unpacking](https://docs.python.org/3/tutorial/controlflow.html#unpacking-argument-lists) operator. "
   ]
  },
  {
   "cell_type": "markdown",
   "metadata": {
    "deletable": true,
    "editable": true
   },
   "source": [
    "### 卷积-最大池（Convolution and Max Pooling）化层\n",
    "\n",
    "卷积层在图像处理中取得了不小的成功。在这部分的代码中，你需要修改 `conv2d_maxpool` 函数来先后实现卷积及最大池化的功能。\n",
    "\n",
    "* 使用 `conv_ksize`、`conv_num_outputs` 及 `x_tensor` 来创建权重（weight）及偏差（bias）变量。\n",
    "* 对 `x_tensor` 进行卷积，使用 `conv_strides` 及*权重*。\n",
    " * 我们建议使用 SAME padding，不过你也可尝试其他 padding 模式。 \n",
    "* 加上*偏差*。\n",
    "* 对卷积结果加上一个非线性函数作为激活层。\n",
    "* 基于 `pool_kszie` 及 `pool_strides` 进行最大池化。\n",
    " * 我们建议使用 SAME padding，不过你也可尝试其他 padding 模式。\n",
    " \n",
    "**注意：**\n",
    "你**不**可以使用来自 [TensorFlow Layers](https://www.tensorflow.org/api_docs/python/tf/layers) 或 [TensorFlow Layers (contrib)](https://www.tensorflow.org/api_guides/python/contrib.layers) 包中的函数来实现**这一层**的功能。但是你可以使用 TensorFlow 的[Neural Network](https://www.tensorflow.org/api_docs/python/tf/nn)包。\n",
    "\n",
    "对于如上的快捷方法，你在**其他层**中可以尝试使用。\n",
    "\n",
    "\n",
    "**提示：**\n",
    "当你在 Python 中希望展开（unpacking）某个变量的值作为函数的参数，你可以参考 [unpacking](https://docs.python.org/3/tutorial/controlflow.html#unpacking-argument-lists) 运算符。"
   ]
  },
  {
   "cell_type": "code",
   "execution_count": 10,
   "metadata": {
    "collapsed": false,
    "deletable": true,
    "editable": true
   },
   "outputs": [
    {
     "name": "stdout",
     "output_type": "stream",
     "text": [
      "Tests Passed\n"
     ]
    }
   ],
   "source": [
    "def conv2d_maxpool(x_tensor, conv_num_outputs, conv_ksize, conv_strides, pool_ksize, pool_strides):\n",
    "    \"\"\"\n",
    "    Apply convolution then max pooling to x_tensor\n",
    "    :param x_tensor: TensorFlow Tensor\n",
    "    :param conv_num_outputs: Number of outputs for the convolutional layer\n",
    "    :param conv_ksize: kernal size 2-D Tuple for the convolutional layer\n",
    "    :param conv_strides: Stride 2-D Tuple for convolution\n",
    "    :param pool_ksize: kernal size 2-D Tuple for pool\n",
    "    :param pool_strides: Stride 2-D Tuple for pool\n",
    "    : return: A tensor that represents convolution and max pooling of x_tensor\n",
    "    \"\"\"\n",
    "\n",
    "    weights_shape = list(conv_ksize) + [x_tensor.get_shape().as_list()[3], conv_num_outputs]\n",
    "    weights = tf.Variable(tf.truncated_normal(weights_shape, stddev=5e-2))\n",
    "    bias = tf.Variable(tf.zeros(conv_num_outputs))\n",
    "    \n",
    "    output = tf.nn.conv2d(x_tensor, weights, \n",
    "                          strides=[1, conv_strides[0], conv_strides[1], 1],\n",
    "                          padding='SAME')\n",
    "    output = tf.nn.bias_add(output, bias)\n",
    "    output = tf.nn.relu(output)\n",
    "    \n",
    "    output = tf.nn.max_pool(output, \n",
    "                            ksize=[1, pool_ksize[0], pool_ksize[1], 1], \n",
    "                            strides=[1, pool_strides[0], pool_strides[1], 1],\n",
    "                            padding='SAME')                                  \n",
    "    return output\n",
    "\n",
    "\"\"\"\n",
    "DON'T MODIFY ANYTHING IN THIS CELL THAT IS BELOW THIS LINE\n",
    "\"\"\"\n",
    "tests.test_con_pool(conv2d_maxpool)"
   ]
  },
  {
   "cell_type": "markdown",
   "metadata": {
    "deletable": true,
    "editable": true
   },
   "source": [
    "### Flatten Layer\n",
    "Implement the `flatten` function to change the dimension of `x_tensor` from a 4-D tensor to a 2-D tensor.  The output should be the shape (*Batch Size*, *Flattened Image Size*). Shortcut option: you can use classes from the [TensorFlow Layers](https://www.tensorflow.org/api_docs/python/tf/layers) or [TensorFlow Layers (contrib)](https://www.tensorflow.org/api_guides/python/contrib.layers) packages for this layer. For more of a challenge, only use other TensorFlow packages."
   ]
  },
  {
   "cell_type": "markdown",
   "metadata": {
    "deletable": true,
    "editable": true
   },
   "source": [
    "### 展开层\n",
    "\n",
    "修改 `flatten` 函数，来将4维的输入张量 `x_tensor` 转换为一个二维的张量。输出的形状应当是 `(Batch Size, Flattened Image Size)`。\n",
    "快捷方法：你可以使用来自 [TensorFlow Layers](https://www.tensorflow.org/api_docs/python/tf/layers) 或 [TensorFlow Layers (contrib)](https://www.tensorflow.org/api_guides/python/contrib.layers) 包中的函数来实现该功能。不过你也可以只使用 TensorFlow 包中的函数来挑战自己。"
   ]
  },
  {
   "cell_type": "code",
   "execution_count": 11,
   "metadata": {
    "collapsed": false,
    "deletable": true,
    "editable": true
   },
   "outputs": [
    {
     "name": "stdout",
     "output_type": "stream",
     "text": [
      "Tests Passed\n"
     ]
    }
   ],
   "source": [
    "def flatten(x_tensor):\n",
    "    \"\"\"\n",
    "    Flatten x_tensor to (Batch Size, Flattened Image Size)\n",
    "    : x_tensor: A tensor of size (Batch Size, ...), where ... are the image dimensions.\n",
    "    : return: A tensor of size (Batch Size, Flattened Image Size).\n",
    "    \"\"\"\n",
    "    tensor_shape = x_tensor.get_shape().as_list()\n",
    "    flattened_shape = np.array(tensor_shape[1:]).prod()\n",
    "    return tf.reshape(x_tensor, [tf.shape(x_tensor)[0], flattened_shape])\n",
    "\n",
    "\n",
    "\"\"\"\n",
    "DON'T MODIFY ANYTHING IN THIS CELL THAT IS BELOW THIS LINE\n",
    "\"\"\"\n",
    "tests.test_flatten(flatten)"
   ]
  },
  {
   "cell_type": "markdown",
   "metadata": {
    "deletable": true,
    "editable": true
   },
   "source": [
    "### Fully-Connected Layer\n",
    "Implement the `fully_conn` function to apply a fully connected layer to `x_tensor` with the shape (*Batch Size*, *num_outputs*). Shortcut option: you can use classes from the [TensorFlow Layers](https://www.tensorflow.org/api_docs/python/tf/layers) or [TensorFlow Layers (contrib)](https://www.tensorflow.org/api_guides/python/contrib.layers) packages for this layer. For more of a challenge, only use other TensorFlow packages."
   ]
  },
  {
   "cell_type": "markdown",
   "metadata": {
    "deletable": true,
    "editable": true
   },
   "source": [
    "### 全连接层\n",
    "\n",
    "修改 `fully_conn` 函数，来对形如 `(batch Size, num_outputs)` 的输入 `x_tensor` 应用一个全连接层。快捷方法：你可以使用来自 [TensorFlow Layers](https://www.tensorflow.org/api_docs/python/tf/layers) 或 [TensorFlow Layers (contrib)](https://www.tensorflow.org/api_guides/python/contrib.layers) 包中的函数来实现该功能。不过你也可以只使用 TensorFlow 包中的函数来挑战自己。"
   ]
  },
  {
   "cell_type": "code",
   "execution_count": 12,
   "metadata": {
    "collapsed": false,
    "deletable": true,
    "editable": true
   },
   "outputs": [
    {
     "name": "stdout",
     "output_type": "stream",
     "text": [
      "Tests Passed\n"
     ]
    }
   ],
   "source": [
    "def fully_conn(x_tensor, num_outputs):\n",
    "    \"\"\"\n",
    "    Apply a fully connected layer to x_tensor using weight and bias\n",
    "    : x_tensor: A 2-D tensor where the first dimension is batch size.\n",
    "    : num_outputs: The number of output that the new tensor should be.\n",
    "    : return: A 2-D tensor where the second dimension is num_outputs.\n",
    "    \"\"\"\n",
    "    flattened_shape = np.array(x_tensor.get_shape().as_list()[1:]).prod()\n",
    "    weights = tf.Variable(tf.truncated_normal([flattened_shape, num_outputs], stddev=0.04))\n",
    "    bias = tf.Variable(tf.zeros([num_outputs]))\n",
    "    \n",
    "    fc = tf.nn.relu(tf.add(tf.matmul(x_tensor, weights), bias))        \n",
    "    return fc\n",
    "\n",
    "\n",
    "\"\"\"\n",
    "DON'T MODIFY ANYTHING IN THIS CELL THAT IS BELOW THIS LINE\n",
    "\"\"\"\n",
    "tests.test_fully_conn(fully_conn)"
   ]
  },
  {
   "cell_type": "markdown",
   "metadata": {
    "deletable": true,
    "editable": true
   },
   "source": [
    "### Output Layer\n",
    "Implement the `output` function to apply a fully connected layer to `x_tensor` with the shape (*Batch Size*, *num_outputs*). Shortcut option: you can use classes from the [TensorFlow Layers](https://www.tensorflow.org/api_docs/python/tf/layers) or [TensorFlow Layers (contrib)](https://www.tensorflow.org/api_guides/python/contrib.layers) packages for this layer. For more of a challenge, only use other TensorFlow packages.\n",
    "\n",
    "**Note:** Activation, softmax, or cross entropy should **not** be applied to this."
   ]
  },
  {
   "cell_type": "markdown",
   "metadata": {
    "deletable": true,
    "editable": true
   },
   "source": [
    "### 输出层\n",
    "\n",
    "修改 `output` 函数，来对形如 `(batch Size, num_outputs)` 的输入 `x_tensor` 应用一个全连接层。快捷方法：你可以使用来自 [TensorFlow Layers](https://www.tensorflow.org/api_docs/python/tf/layers) 或 [TensorFlow Layers (contrib)](https://www.tensorflow.org/api_guides/python/contrib.layers) 包中的函数来实现该功能。不过你也可以只使用 TensorFlow 包中的函数来挑战自己。\n",
    "\n",
    "**注意：**\n",
    "激活函数、softmax 或者交叉熵（corss entropy）**不**应被加入到该层。"
   ]
  },
  {
   "cell_type": "code",
   "execution_count": 13,
   "metadata": {
    "collapsed": false,
    "deletable": true,
    "editable": true
   },
   "outputs": [
    {
     "name": "stdout",
     "output_type": "stream",
     "text": [
      "Tests Passed\n"
     ]
    }
   ],
   "source": [
    "def output(x_tensor, num_outputs):\n",
    "    \"\"\"\n",
    "    Apply a output layer to x_tensor using weight and bias\n",
    "    : x_tensor: A 2-D tensor where the first dimension is batch size.\n",
    "    : num_outputs: The number of output that the new tensor should be.\n",
    "    : return: A 2-D tensor where the second dimension is num_outputs.\n",
    "    \"\"\"\n",
    "    flattened_shape = np.array(x_tensor.get_shape().as_list()[1:]).prod()\n",
    "    weights = tf.Variable(tf.truncated_normal([flattened_shape, num_outputs], stddev=0.04))\n",
    "    bias = tf.Variable(tf.zeros([num_outputs]))\n",
    "      \n",
    "    return tf.add(tf.matmul(x_tensor, weights), bias)\n",
    "\n",
    "\n",
    "\"\"\"\n",
    "DON'T MODIFY ANYTHING IN THIS CELL THAT IS BELOW THIS LINE\n",
    "\"\"\"\n",
    "tests.test_output(output)"
   ]
  },
  {
   "cell_type": "markdown",
   "metadata": {
    "deletable": true,
    "editable": true
   },
   "source": [
    "### Create Convolutional Model\n",
    "Implement the function `conv_net` to create a convolutional neural network model. The function takes in a batch of images, `x`, and outputs logits.  Use the layers you created above to create this model:\n",
    "\n",
    "* Apply 1, 2, or 3 Convolution and Max Pool layers\n",
    "* Apply a Flatten Layer\n",
    "* Apply 1, 2, or 3 Fully Connected Layers\n",
    "* Apply an Output Layer\n",
    "* Return the output\n",
    "* Apply [TensorFlow's Dropout](https://www.tensorflow.org/api_docs/python/tf/nn/dropout) to one or more layers in the model using `keep_prob`. "
   ]
  },
  {
   "cell_type": "markdown",
   "metadata": {
    "deletable": true,
    "editable": true
   },
   "source": [
    "### 创建卷积模型\n",
    "\n",
    "修改 `conv_net` 函数，使之能够生成一个卷积神经网络模型。该函数的输入为一批图像数据 `x`，输出为 logits。在函数中，使用上方你修改的创建各种层的函数来创建该模型：\n",
    "\n",
    "* 使用 1 到 3 个卷积-最大池化层\n",
    "* 使用一个展开层\n",
    "* 使用 1 到 3 个全连接层\n",
    "* 使用一个输出层\n",
    "* 返回呼出结果\n",
    "* 在一个或多个层上使用 [TensorFlow's Dropout](https://www.tensorflow.org/api_docs/python/tf/nn/dropout)，对应的保留概率为 `keep_prob`. "
   ]
  },
  {
   "cell_type": "code",
   "execution_count": 14,
   "metadata": {
    "collapsed": false,
    "deletable": true,
    "editable": true
   },
   "outputs": [
    {
     "name": "stdout",
     "output_type": "stream",
     "text": [
      "Neural Network Built!\n"
     ]
    }
   ],
   "source": [
    "def conv_net(x, keep_prob,num_classes=10):\n",
    "    \"\"\"\n",
    "    Create a convolutional neural network model\n",
    "    : x: Placeholder tensor that holds image data.\n",
    "    : keep_prob: Placeholder tensor that hold dropout keep probability.\n",
    "    : return: Tensor that represents logits\n",
    "    \"\"\"\n",
    "    conv = conv2d_maxpool(x,\n",
    "                           conv_num_outputs=64,\n",
    "                           conv_ksize=[5,5],\n",
    "                           conv_strides=[1,1],\n",
    "                           pool_ksize=[3,3],\n",
    "                           pool_strides=[2,2])\n",
    "    \n",
    "    conv = conv2d_maxpool(conv,\n",
    "                          conv_num_outputs=64,\n",
    "                          conv_ksize=[5,5],\n",
    "                          conv_strides=[1,1],\n",
    "                          pool_ksize=[3,3],\n",
    "                          pool_strides=[2,2])\n",
    "    \n",
    "    # Apply a Flatten Layer\n",
    "    flattened_conv = flatten(conv)\n",
    "    \n",
    "    # 2 Fully-Connected Layers.\n",
    "    fc = fully_conn(flattened_conv, 384)\n",
    "    fc = fully_conn(fc, 192)\n",
    "    \n",
    "    # Dropout layer.\n",
    "    fc = tf.nn.dropout(fc, keep_prob)\n",
    "    \n",
    "    # Output Layer.\n",
    "    return output(fc, num_classes)  \n",
    "\n",
    "\n",
    "\"\"\"\n",
    "DON'T MODIFY ANYTHING IN THIS CELL THAT IS BELOW THIS LINE\n",
    "\"\"\"\n",
    "\n",
    "##############################\n",
    "## Build the Neural Network ##\n",
    "##############################\n",
    "\n",
    "# Remove previous weights, bias, inputs, etc..\n",
    "tf.reset_default_graph()\n",
    "\n",
    "# Inputs\n",
    "x = neural_net_image_input((32, 32, 3))\n",
    "y = neural_net_label_input(10)\n",
    "keep_prob = neural_net_keep_prob_input()\n",
    "\n",
    "# Model\n",
    "logits = conv_net(x, keep_prob)\n",
    "\n",
    "# Name logits Tensor, so that is can be loaded from disk after training\n",
    "logits = tf.identity(logits, name='logits')\n",
    "\n",
    "# Loss and Optimizer\n",
    "cost = tf.reduce_mean(tf.nn.softmax_cross_entropy_with_logits(logits=logits, labels=y))\n",
    "optimizer = tf.train.AdamOptimizer().minimize(cost)\n",
    "\n",
    "# Accuracy\n",
    "correct_pred = tf.equal(tf.argmax(logits, 1), tf.argmax(y, 1))\n",
    "accuracy = tf.reduce_mean(tf.cast(correct_pred, tf.float32), name='accuracy')\n",
    "\n",
    "tests.test_conv_net(conv_net)"
   ]
  },
  {
   "cell_type": "markdown",
   "metadata": {
    "deletable": true,
    "editable": true
   },
   "source": [
    "## Train the Neural Network\n",
    "### Single Optimization\n",
    "Implement the function `train_neural_network` to do a single optimization.  The optimization should use `optimizer` to optimize in `session` with a `feed_dict` of the following:\n",
    "* `x` for image input\n",
    "* `y` for labels\n",
    "* `keep_prob` for keep probability for dropout\n",
    "\n",
    "This function will be called for each batch, so `tf.global_variables_initializer()` has already been called.\n",
    "\n",
    "Note: Nothing needs to be returned. This function is only optimizing the neural network."
   ]
  },
  {
   "cell_type": "markdown",
   "metadata": {
    "deletable": true,
    "editable": true
   },
   "source": [
    "## 训练该神经网络\n",
    "\n",
    "### 最优化\n",
    "\n",
    "修改 `train_neural_network` 函数以执行单次最优化。该最优化过程应在一个 `session` 中使用 `optimizer` 来进行该过程，它的 `feed_dict` 包括：\n",
    "* `x` 代表输入图像\n",
    "* `y` 代表*标签*\n",
    "* `keep_prob` 为 Dropout 过程中的保留概率\n",
    "\n",
    "对每批数据该函数都会被调用，因而 `tf.global_variables_initializer()` 已经被调用过。\n",
    "\n",
    "注意：该函数并不要返回某个值，它只对神经网络进行最优化。"
   ]
  },
  {
   "cell_type": "code",
   "execution_count": 15,
   "metadata": {
    "collapsed": false,
    "deletable": true,
    "editable": true
   },
   "outputs": [
    {
     "name": "stdout",
     "output_type": "stream",
     "text": [
      "Tests Passed\n"
     ]
    }
   ],
   "source": [
    "def train_neural_network(session, optimizer, keep_probability, feature_batch, label_batch):\n",
    "    \"\"\"\n",
    "    Optimize the session on a batch of images and labels\n",
    "    : session: Current TensorFlow session\n",
    "    : optimizer: TensorFlow optimizer function\n",
    "    : keep_probability: keep probability\n",
    "    : feature_batch: Batch of Numpy image data\n",
    "    : label_batch: Batch of Numpy label data\n",
    "    \"\"\"\n",
    "    # TODO: Implement Function\n",
    "    session.run(optimizer, feed_dict={x: feature_batch,\n",
    "                                      y: label_batch,\n",
    "                                      keep_prob: keep_probability})\n",
    "    pass\n",
    "\n",
    "\n",
    "\"\"\"\n",
    "DON'T MODIFY ANYTHING IN THIS CELL THAT IS BELOW THIS LINE\n",
    "\"\"\"\n",
    "tests.test_train_nn(train_neural_network)"
   ]
  },
  {
   "cell_type": "markdown",
   "metadata": {
    "deletable": true,
    "editable": true
   },
   "source": [
    "### Show Stats\n",
    "Implement the function `print_stats` to print loss and validation accuracy.  Use the global variables `valid_features` and `valid_labels` to calculate validation accuracy.  Use a keep probability of `1.0` to calculate the loss and validation accuracy."
   ]
  },
  {
   "cell_type": "markdown",
   "metadata": {
    "deletable": true,
    "editable": true
   },
   "source": [
    "### 显示状态\n",
    "\n",
    "修改 `print_stats` 函数来打印 loss 值及验证准确率。 使用全局的变量 `valid_features` 及 `valid_labels` 来计算验证准确率。 设定保留概率为 1.0 来计算 loss 值及验证准确率。"
   ]
  },
  {
   "cell_type": "code",
   "execution_count": 16,
   "metadata": {
    "collapsed": false,
    "deletable": true,
    "editable": true
   },
   "outputs": [],
   "source": [
    "def print_stats(session, feature_batch, label_batch, cost, accuracy):\n",
    "    \"\"\"\n",
    "    Print information about loss and validation accuracy\n",
    "    : session: Current TensorFlow session\n",
    "    : feature_batch: Batch of Numpy image data\n",
    "    : label_batch: Batch of Numpy label data\n",
    "    : cost: TensorFlow cost function\n",
    "    : accuracy: TensorFlow accuracy function\n",
    "    \"\"\"\n",
    "    loss = sess.run(cost, feed_dict={x: feature_batch,\n",
    "                                     y: label_batch,\n",
    "                                     keep_prob: 1.})\n",
    "    valid_acc = sess.run(accuracy, feed_dict={x: valid_features,\n",
    "                                              y: valid_labels,\n",
    "                                              keep_prob: 1.})\n",
    "\n",
    "    print('Loss: {:>10.4f} Validation Accuracy: {:.6f}'.format(loss, valid_acc))"
   ]
  },
  {
   "cell_type": "markdown",
   "metadata": {
    "deletable": true,
    "editable": true
   },
   "source": [
    "### Hyperparameters\n",
    "Tune the following parameters:\n",
    "* Set `epochs` to the number of iterations until the network stops learning or start overfitting\n",
    "* Set `batch_size` to the highest number that your machine has memory for.  Most people set them to common sizes of memory:\n",
    " * 64\n",
    " * 128\n",
    " * 256\n",
    " * ...\n",
    "* Set `keep_probability` to the probability of keeping a node using dropout"
   ]
  },
  {
   "cell_type": "markdown",
   "metadata": {
    "deletable": true,
    "editable": true
   },
   "source": [
    "### 超参数调节\n",
    "\n",
    "你需要调节如下的参数：\n",
    "* 设定 `epoches` 为模型停止学习或开始过拟合时模型的迭代次数。\n",
    "* 设定 `batch_size` 为你内存能支持的最大值。一般我们设定该值为：\n",
    " * 64\n",
    " * 128\n",
    " * 256\n",
    " * ...\n",
    "* 设定 `keep_probability` 为在 dropout 过程中保留一个节点的概率。"
   ]
  },
  {
   "cell_type": "code",
   "execution_count": 17,
   "metadata": {
    "collapsed": true,
    "deletable": true,
    "editable": true
   },
   "outputs": [],
   "source": [
    "# TODO: Tune Parameters\n",
    "epochs = 64\n",
    "batch_size = 128\n",
    "keep_probability = 0.77"
   ]
  },
  {
   "cell_type": "markdown",
   "metadata": {
    "deletable": true,
    "editable": true
   },
   "source": [
    "### Train on a Single CIFAR-10 Batch\n",
    "Instead of training the neural network on all the CIFAR-10 batches of data, let's use a single batch. This should save time while you iterate on the model to get a better accuracy.  Once the final validation accuracy is 50% or greater, run the model on all the data in the next section."
   ]
  },
  {
   "cell_type": "markdown",
   "metadata": {
    "deletable": true,
    "editable": true
   },
   "source": [
    "### 对单批 CIFAR-10 数据进行训练\n",
    "\n",
    "相比于在所有 CIFAR-10 数据上训练神经网络，我们首先使用一批数据进行训练。这会帮助你在调节模型提高精度的过程中节省时间。当最终的验证精度超过 50% 之后，你就可以前往下一节在所有数据上运行该模型了。"
   ]
  },
  {
   "cell_type": "code",
   "execution_count": 18,
   "metadata": {
    "collapsed": false,
    "deletable": true,
    "editable": true
   },
   "outputs": [
    {
     "name": "stdout",
     "output_type": "stream",
     "text": [
      "Checking the Training on a Single Batch...\n",
      "Epoch  1, CIFAR-10 Batch 1:  Loss:     1.9347 Validation Accuracy: 0.342800\n",
      "Epoch  2, CIFAR-10 Batch 1:  Loss:     1.6641 Validation Accuracy: 0.457800\n",
      "Epoch  3, CIFAR-10 Batch 1:  Loss:     1.3231 Validation Accuracy: 0.499800\n",
      "Epoch  4, CIFAR-10 Batch 1:  Loss:     1.1122 Validation Accuracy: 0.541600\n",
      "Epoch  5, CIFAR-10 Batch 1:  Loss:     0.8562 Validation Accuracy: 0.559800\n",
      "Epoch  6, CIFAR-10 Batch 1:  Loss:     0.7527 Validation Accuracy: 0.568800\n",
      "Epoch  7, CIFAR-10 Batch 1:  Loss:     0.5589 Validation Accuracy: 0.585000\n",
      "Epoch  8, CIFAR-10 Batch 1:  Loss:     0.4249 Validation Accuracy: 0.577600\n",
      "Epoch  9, CIFAR-10 Batch 1:  Loss:     0.3739 Validation Accuracy: 0.583400\n",
      "Epoch 10, CIFAR-10 Batch 1:  Loss:     0.3381 Validation Accuracy: 0.587800\n",
      "Epoch 11, CIFAR-10 Batch 1:  Loss:     0.2384 Validation Accuracy: 0.575600\n",
      "Epoch 12, CIFAR-10 Batch 1:  Loss:     0.1971 Validation Accuracy: 0.541800\n",
      "Epoch 13, CIFAR-10 Batch 1:  Loss:     0.1203 Validation Accuracy: 0.589000\n",
      "Epoch 14, CIFAR-10 Batch 1:  Loss:     0.0812 Validation Accuracy: 0.591000\n",
      "Epoch 15, CIFAR-10 Batch 1:  Loss:     0.0987 Validation Accuracy: 0.575200\n",
      "Epoch 16, CIFAR-10 Batch 1:  Loss:     0.0684 Validation Accuracy: 0.577000\n",
      "Epoch 17, CIFAR-10 Batch 1:  Loss:     0.0457 Validation Accuracy: 0.585200\n",
      "Epoch 18, CIFAR-10 Batch 1:  Loss:     0.0182 Validation Accuracy: 0.575600\n",
      "Epoch 19, CIFAR-10 Batch 1:  Loss:     0.0204 Validation Accuracy: 0.577800\n",
      "Epoch 20, CIFAR-10 Batch 1:  Loss:     0.0305 Validation Accuracy: 0.590000\n",
      "Epoch 21, CIFAR-10 Batch 1:  Loss:     0.0064 Validation Accuracy: 0.579000\n",
      "Epoch 22, CIFAR-10 Batch 1:  Loss:     0.0158 Validation Accuracy: 0.562800\n",
      "Epoch 23, CIFAR-10 Batch 1:  Loss:     0.0146 Validation Accuracy: 0.562000\n",
      "Epoch 24, CIFAR-10 Batch 1:  Loss:     0.0047 Validation Accuracy: 0.582400\n",
      "Epoch 25, CIFAR-10 Batch 1:  Loss:     0.0020 Validation Accuracy: 0.595800\n",
      "Epoch 26, CIFAR-10 Batch 1:  Loss:     0.0056 Validation Accuracy: 0.587200\n",
      "Epoch 27, CIFAR-10 Batch 1:  Loss:     0.0050 Validation Accuracy: 0.594000\n",
      "Epoch 28, CIFAR-10 Batch 1:  Loss:     0.0052 Validation Accuracy: 0.590000\n",
      "Epoch 29, CIFAR-10 Batch 1:  Loss:     0.0047 Validation Accuracy: 0.589800\n",
      "Epoch 30, CIFAR-10 Batch 1:  Loss:     0.0020 Validation Accuracy: 0.592200\n",
      "Epoch 31, CIFAR-10 Batch 1:  Loss:     0.0023 Validation Accuracy: 0.593000\n",
      "Epoch 32, CIFAR-10 Batch 1:  Loss:     0.0010 Validation Accuracy: 0.592200\n",
      "Epoch 33, CIFAR-10 Batch 1:  Loss:     0.0036 Validation Accuracy: 0.597600\n",
      "Epoch 34, CIFAR-10 Batch 1:  Loss:     0.0017 Validation Accuracy: 0.582600\n",
      "Epoch 35, CIFAR-10 Batch 1:  Loss:     0.0012 Validation Accuracy: 0.589000\n",
      "Epoch 36, CIFAR-10 Batch 1:  Loss:     0.0013 Validation Accuracy: 0.597800\n",
      "Epoch 37, CIFAR-10 Batch 1:  Loss:     0.0010 Validation Accuracy: 0.595600\n",
      "Epoch 38, CIFAR-10 Batch 1:  Loss:     0.0041 Validation Accuracy: 0.590200\n",
      "Epoch 39, CIFAR-10 Batch 1:  Loss:     0.0009 Validation Accuracy: 0.598000\n",
      "Epoch 40, CIFAR-10 Batch 1:  Loss:     0.0006 Validation Accuracy: 0.600400\n",
      "Epoch 41, CIFAR-10 Batch 1:  Loss:     0.0033 Validation Accuracy: 0.588600\n",
      "Epoch 42, CIFAR-10 Batch 1:  Loss:     0.0018 Validation Accuracy: 0.605600\n",
      "Epoch 43, CIFAR-10 Batch 1:  Loss:     0.0008 Validation Accuracy: 0.590800\n",
      "Epoch 44, CIFAR-10 Batch 1:  Loss:     0.0013 Validation Accuracy: 0.596200\n",
      "Epoch 45, CIFAR-10 Batch 1:  Loss:     0.0008 Validation Accuracy: 0.586200\n",
      "Epoch 46, CIFAR-10 Batch 1:  Loss:     0.0012 Validation Accuracy: 0.593600\n",
      "Epoch 47, CIFAR-10 Batch 1:  Loss:     0.0005 Validation Accuracy: 0.598200\n",
      "Epoch 48, CIFAR-10 Batch 1:  Loss:     0.0025 Validation Accuracy: 0.592200\n",
      "Epoch 49, CIFAR-10 Batch 1:  Loss:     0.0004 Validation Accuracy: 0.581200\n",
      "Epoch 50, CIFAR-10 Batch 1:  Loss:     0.0004 Validation Accuracy: 0.574200\n",
      "Epoch 51, CIFAR-10 Batch 1:  Loss:     0.0006 Validation Accuracy: 0.575000\n",
      "Epoch 52, CIFAR-10 Batch 1:  Loss:     0.0006 Validation Accuracy: 0.582200\n",
      "Epoch 53, CIFAR-10 Batch 1:  Loss:     0.0007 Validation Accuracy: 0.584000\n",
      "Epoch 54, CIFAR-10 Batch 1:  Loss:     0.0011 Validation Accuracy: 0.568000\n",
      "Epoch 55, CIFAR-10 Batch 1:  Loss:     0.0005 Validation Accuracy: 0.575400\n",
      "Epoch 56, CIFAR-10 Batch 1:  Loss:     0.0003 Validation Accuracy: 0.590400\n",
      "Epoch 57, CIFAR-10 Batch 1:  Loss:     0.0008 Validation Accuracy: 0.581000\n",
      "Epoch 58, CIFAR-10 Batch 1:  Loss:     0.0007 Validation Accuracy: 0.587000\n",
      "Epoch 59, CIFAR-10 Batch 1:  Loss:     0.0012 Validation Accuracy: 0.583200\n",
      "Epoch 60, CIFAR-10 Batch 1:  Loss:     0.0007 Validation Accuracy: 0.593000\n",
      "Epoch 61, CIFAR-10 Batch 1:  Loss:     0.0003 Validation Accuracy: 0.584600\n",
      "Epoch 62, CIFAR-10 Batch 1:  Loss:     0.0002 Validation Accuracy: 0.594200\n",
      "Epoch 63, CIFAR-10 Batch 1:  Loss:     0.0001 Validation Accuracy: 0.577200\n",
      "Epoch 64, CIFAR-10 Batch 1:  Loss:     0.0011 Validation Accuracy: 0.576000\n"
     ]
    }
   ],
   "source": [
    "\"\"\"\n",
    "DON'T MODIFY ANYTHING IN THIS CELL\n",
    "\"\"\"\n",
    "print('Checking the Training on a Single Batch...')\n",
    "with tf.Session() as sess:\n",
    "    # Initializing the variables\n",
    "    sess.run(tf.global_variables_initializer())\n",
    "    \n",
    "    # Training cycle\n",
    "    for epoch in range(epochs):\n",
    "        batch_i = 1\n",
    "        for batch_features, batch_labels in helper.load_preprocess_training_batch(batch_i, batch_size):\n",
    "            train_neural_network(sess, optimizer, keep_probability, batch_features, batch_labels)\n",
    "        print('Epoch {:>2}, CIFAR-10 Batch {}:  '.format(epoch + 1, batch_i), end='')\n",
    "        print_stats(sess, batch_features, batch_labels, cost, accuracy)"
   ]
  },
  {
   "cell_type": "markdown",
   "metadata": {
    "deletable": true,
    "editable": true
   },
   "source": [
    "### Fully Train the Model\n",
    "Now that you got a good accuracy with a single CIFAR-10 batch, try it with all five batches."
   ]
  },
  {
   "cell_type": "markdown",
   "metadata": {
    "deletable": true,
    "editable": true
   },
   "source": [
    "### 完全训练该模型\n",
    "\n",
    "因为你在单批 CIFAR-10 数据上已经得到了一个不错的准确率了，那你可以尝试在所有五批数据上进行训练。"
   ]
  },
  {
   "cell_type": "code",
   "execution_count": 19,
   "metadata": {
    "collapsed": false,
    "deletable": true,
    "editable": true
   },
   "outputs": [
    {
     "name": "stdout",
     "output_type": "stream",
     "text": [
      "Training...\n",
      "Epoch  1, CIFAR-10 Batch 1:  Loss:     1.9490 Validation Accuracy: 0.378400\n",
      "Epoch  1, CIFAR-10 Batch 2:  Loss:     1.4116 Validation Accuracy: 0.472800\n",
      "Epoch  1, CIFAR-10 Batch 3:  Loss:     1.1541 Validation Accuracy: 0.510200\n",
      "Epoch  1, CIFAR-10 Batch 4:  Loss:     1.1956 Validation Accuracy: 0.547800\n",
      "Epoch  1, CIFAR-10 Batch 5:  Loss:     1.1569 Validation Accuracy: 0.558200\n",
      "Epoch  2, CIFAR-10 Batch 1:  Loss:     1.1015 Validation Accuracy: 0.559000\n",
      "Epoch  2, CIFAR-10 Batch 2:  Loss:     0.9498 Validation Accuracy: 0.571400\n",
      "Epoch  2, CIFAR-10 Batch 3:  Loss:     0.8062 Validation Accuracy: 0.619200\n",
      "Epoch  2, CIFAR-10 Batch 4:  Loss:     0.8628 Validation Accuracy: 0.621400\n",
      "Epoch  2, CIFAR-10 Batch 5:  Loss:     0.8795 Validation Accuracy: 0.629000\n",
      "Epoch  3, CIFAR-10 Batch 1:  Loss:     0.7824 Validation Accuracy: 0.653200\n",
      "Epoch  3, CIFAR-10 Batch 2:  Loss:     0.7466 Validation Accuracy: 0.627800\n",
      "Epoch  3, CIFAR-10 Batch 3:  Loss:     0.5474 Validation Accuracy: 0.672200\n",
      "Epoch  3, CIFAR-10 Batch 4:  Loss:     0.5674 Validation Accuracy: 0.669800\n",
      "Epoch  3, CIFAR-10 Batch 5:  Loss:     0.5328 Validation Accuracy: 0.698000\n",
      "Epoch  4, CIFAR-10 Batch 1:  Loss:     0.5622 Validation Accuracy: 0.682200\n",
      "Epoch  4, CIFAR-10 Batch 2:  Loss:     0.4771 Validation Accuracy: 0.686800\n",
      "Epoch  4, CIFAR-10 Batch 3:  Loss:     0.3294 Validation Accuracy: 0.690800\n",
      "Epoch  4, CIFAR-10 Batch 4:  Loss:     0.4345 Validation Accuracy: 0.681200\n",
      "Epoch  4, CIFAR-10 Batch 5:  Loss:     0.3768 Validation Accuracy: 0.717600\n",
      "Epoch  5, CIFAR-10 Batch 1:  Loss:     0.4185 Validation Accuracy: 0.713600\n",
      "Epoch  5, CIFAR-10 Batch 2:  Loss:     0.4862 Validation Accuracy: 0.686800\n",
      "Epoch  5, CIFAR-10 Batch 3:  Loss:     0.2368 Validation Accuracy: 0.705200\n",
      "Epoch  5, CIFAR-10 Batch 4:  Loss:     0.3041 Validation Accuracy: 0.700600\n",
      "Epoch  5, CIFAR-10 Batch 5:  Loss:     0.2601 Validation Accuracy: 0.711000\n",
      "Epoch  6, CIFAR-10 Batch 1:  Loss:     0.3303 Validation Accuracy: 0.688200\n",
      "Epoch  6, CIFAR-10 Batch 2:  Loss:     0.2854 Validation Accuracy: 0.703400\n",
      "Epoch  6, CIFAR-10 Batch 3:  Loss:     0.1412 Validation Accuracy: 0.701600\n",
      "Epoch  6, CIFAR-10 Batch 4:  Loss:     0.2168 Validation Accuracy: 0.714000\n",
      "Epoch  6, CIFAR-10 Batch 5:  Loss:     0.1760 Validation Accuracy: 0.709800\n",
      "Epoch  7, CIFAR-10 Batch 1:  Loss:     0.1811 Validation Accuracy: 0.717400\n",
      "Epoch  7, CIFAR-10 Batch 2:  Loss:     0.1603 Validation Accuracy: 0.707000\n",
      "Epoch  7, CIFAR-10 Batch 3:  Loss:     0.1528 Validation Accuracy: 0.720600\n",
      "Epoch  7, CIFAR-10 Batch 4:  Loss:     0.1581 Validation Accuracy: 0.709800\n",
      "Epoch  7, CIFAR-10 Batch 5:  Loss:     0.0848 Validation Accuracy: 0.696200\n",
      "Epoch  8, CIFAR-10 Batch 1:  Loss:     0.1453 Validation Accuracy: 0.723000\n",
      "Epoch  8, CIFAR-10 Batch 2:  Loss:     0.1338 Validation Accuracy: 0.689200\n",
      "Epoch  8, CIFAR-10 Batch 3:  Loss:     0.0721 Validation Accuracy: 0.717800\n",
      "Epoch  8, CIFAR-10 Batch 4:  Loss:     0.1334 Validation Accuracy: 0.701800\n",
      "Epoch  8, CIFAR-10 Batch 5:  Loss:     0.0650 Validation Accuracy: 0.709800\n",
      "Epoch  9, CIFAR-10 Batch 1:  Loss:     0.1446 Validation Accuracy: 0.721600\n",
      "Epoch  9, CIFAR-10 Batch 2:  Loss:     0.1808 Validation Accuracy: 0.688800\n",
      "Epoch  9, CIFAR-10 Batch 3:  Loss:     0.0555 Validation Accuracy: 0.719400\n",
      "Epoch  9, CIFAR-10 Batch 4:  Loss:     0.1139 Validation Accuracy: 0.691000\n",
      "Epoch  9, CIFAR-10 Batch 5:  Loss:     0.0415 Validation Accuracy: 0.720600\n",
      "Epoch 10, CIFAR-10 Batch 1:  Loss:     0.0878 Validation Accuracy: 0.724200\n",
      "Epoch 10, CIFAR-10 Batch 2:  Loss:     0.0949 Validation Accuracy: 0.708600\n",
      "Epoch 10, CIFAR-10 Batch 3:  Loss:     0.0386 Validation Accuracy: 0.705800\n",
      "Epoch 10, CIFAR-10 Batch 4:  Loss:     0.1244 Validation Accuracy: 0.691600\n",
      "Epoch 10, CIFAR-10 Batch 5:  Loss:     0.0455 Validation Accuracy: 0.722600\n",
      "Epoch 11, CIFAR-10 Batch 1:  Loss:     0.0392 Validation Accuracy: 0.724400\n",
      "Epoch 11, CIFAR-10 Batch 2:  Loss:     0.0373 Validation Accuracy: 0.727800\n",
      "Epoch 11, CIFAR-10 Batch 3:  Loss:     0.0439 Validation Accuracy: 0.715200\n",
      "Epoch 11, CIFAR-10 Batch 4:  Loss:     0.0900 Validation Accuracy: 0.696800\n",
      "Epoch 11, CIFAR-10 Batch 5:  Loss:     0.0409 Validation Accuracy: 0.708200\n",
      "Epoch 12, CIFAR-10 Batch 1:  Loss:     0.0334 Validation Accuracy: 0.714400\n",
      "Epoch 12, CIFAR-10 Batch 2:  Loss:     0.0159 Validation Accuracy: 0.719400\n",
      "Epoch 12, CIFAR-10 Batch 3:  Loss:     0.0141 Validation Accuracy: 0.727000\n",
      "Epoch 12, CIFAR-10 Batch 4:  Loss:     0.0439 Validation Accuracy: 0.690600\n",
      "Epoch 12, CIFAR-10 Batch 5:  Loss:     0.0118 Validation Accuracy: 0.717600\n",
      "Epoch 13, CIFAR-10 Batch 1:  Loss:     0.0319 Validation Accuracy: 0.703400\n",
      "Epoch 13, CIFAR-10 Batch 2:  Loss:     0.0545 Validation Accuracy: 0.711600\n",
      "Epoch 13, CIFAR-10 Batch 3:  Loss:     0.0114 Validation Accuracy: 0.706200\n",
      "Epoch 13, CIFAR-10 Batch 4:  Loss:     0.0328 Validation Accuracy: 0.680600\n",
      "Epoch 13, CIFAR-10 Batch 5:  Loss:     0.0197 Validation Accuracy: 0.716400\n",
      "Epoch 14, CIFAR-10 Batch 1:  Loss:     0.0240 Validation Accuracy: 0.704200\n",
      "Epoch 14, CIFAR-10 Batch 2:  Loss:     0.0213 Validation Accuracy: 0.714800\n",
      "Epoch 14, CIFAR-10 Batch 3:  Loss:     0.0105 Validation Accuracy: 0.712800\n",
      "Epoch 14, CIFAR-10 Batch 4:  Loss:     0.0242 Validation Accuracy: 0.719200\n",
      "Epoch 14, CIFAR-10 Batch 5:  Loss:     0.0365 Validation Accuracy: 0.716600\n",
      "Epoch 15, CIFAR-10 Batch 1:  Loss:     0.0468 Validation Accuracy: 0.690200\n",
      "Epoch 15, CIFAR-10 Batch 2:  Loss:     0.0197 Validation Accuracy: 0.713200\n",
      "Epoch 15, CIFAR-10 Batch 3:  Loss:     0.0066 Validation Accuracy: 0.707600\n",
      "Epoch 15, CIFAR-10 Batch 4:  Loss:     0.0442 Validation Accuracy: 0.690600\n",
      "Epoch 15, CIFAR-10 Batch 5:  Loss:     0.0230 Validation Accuracy: 0.718800\n",
      "Epoch 16, CIFAR-10 Batch 1:  Loss:     0.0169 Validation Accuracy: 0.709800\n",
      "Epoch 16, CIFAR-10 Batch 2:  Loss:     0.0139 Validation Accuracy: 0.716800\n",
      "Epoch 16, CIFAR-10 Batch 3:  Loss:     0.0221 Validation Accuracy: 0.694000\n",
      "Epoch 16, CIFAR-10 Batch 4:  Loss:     0.0303 Validation Accuracy: 0.693200\n",
      "Epoch 16, CIFAR-10 Batch 5:  Loss:     0.0062 Validation Accuracy: 0.711000\n",
      "Epoch 17, CIFAR-10 Batch 1:  Loss:     0.0178 Validation Accuracy: 0.706200\n",
      "Epoch 17, CIFAR-10 Batch 2:  Loss:     0.0096 Validation Accuracy: 0.707000\n",
      "Epoch 17, CIFAR-10 Batch 3:  Loss:     0.0141 Validation Accuracy: 0.705000\n",
      "Epoch 17, CIFAR-10 Batch 4:  Loss:     0.0114 Validation Accuracy: 0.699000\n",
      "Epoch 17, CIFAR-10 Batch 5:  Loss:     0.0062 Validation Accuracy: 0.714200\n",
      "Epoch 18, CIFAR-10 Batch 1:  Loss:     0.0038 Validation Accuracy: 0.703800\n",
      "Epoch 18, CIFAR-10 Batch 2:  Loss:     0.0108 Validation Accuracy: 0.715600\n",
      "Epoch 18, CIFAR-10 Batch 3:  Loss:     0.0131 Validation Accuracy: 0.721200\n",
      "Epoch 18, CIFAR-10 Batch 4:  Loss:     0.0083 Validation Accuracy: 0.714800\n",
      "Epoch 18, CIFAR-10 Batch 5:  Loss:     0.0684 Validation Accuracy: 0.715800\n",
      "Epoch 19, CIFAR-10 Batch 1:  Loss:     0.0095 Validation Accuracy: 0.710000\n",
      "Epoch 19, CIFAR-10 Batch 2:  Loss:     0.0069 Validation Accuracy: 0.700200\n",
      "Epoch 19, CIFAR-10 Batch 3:  Loss:     0.0043 Validation Accuracy: 0.712800\n",
      "Epoch 19, CIFAR-10 Batch 4:  Loss:     0.0074 Validation Accuracy: 0.711600\n",
      "Epoch 19, CIFAR-10 Batch 5:  Loss:     0.0024 Validation Accuracy: 0.716400\n",
      "Epoch 20, CIFAR-10 Batch 1:  Loss:     0.0091 Validation Accuracy: 0.705600\n",
      "Epoch 20, CIFAR-10 Batch 2:  Loss:     0.0049 Validation Accuracy: 0.720600\n",
      "Epoch 20, CIFAR-10 Batch 3:  Loss:     0.0095 Validation Accuracy: 0.717000\n",
      "Epoch 20, CIFAR-10 Batch 4:  Loss:     0.0078 Validation Accuracy: 0.716800\n",
      "Epoch 20, CIFAR-10 Batch 5:  Loss:     0.0018 Validation Accuracy: 0.724400\n",
      "Epoch 21, CIFAR-10 Batch 1:  Loss:     0.0070 Validation Accuracy: 0.701800\n",
      "Epoch 21, CIFAR-10 Batch 2:  Loss:     0.0065 Validation Accuracy: 0.720800\n",
      "Epoch 21, CIFAR-10 Batch 3:  Loss:     0.0035 Validation Accuracy: 0.723400\n",
      "Epoch 21, CIFAR-10 Batch 4:  Loss:     0.0086 Validation Accuracy: 0.704400\n",
      "Epoch 21, CIFAR-10 Batch 5:  Loss:     0.0027 Validation Accuracy: 0.724400\n",
      "Epoch 22, CIFAR-10 Batch 1:  Loss:     0.0032 Validation Accuracy: 0.713200\n",
      "Epoch 22, CIFAR-10 Batch 2:  Loss:     0.0009 Validation Accuracy: 0.699800\n",
      "Epoch 22, CIFAR-10 Batch 3:  Loss:     0.0012 Validation Accuracy: 0.721800\n",
      "Epoch 22, CIFAR-10 Batch 4:  Loss:     0.0123 Validation Accuracy: 0.707800\n",
      "Epoch 22, CIFAR-10 Batch 5:  Loss:     0.0062 Validation Accuracy: 0.726400\n",
      "Epoch 23, CIFAR-10 Batch 1:  Loss:     0.0036 Validation Accuracy: 0.713200\n",
      "Epoch 23, CIFAR-10 Batch 2:  Loss:     0.0019 Validation Accuracy: 0.717800\n",
      "Epoch 23, CIFAR-10 Batch 3:  Loss:     0.0013 Validation Accuracy: 0.719400\n",
      "Epoch 23, CIFAR-10 Batch 4:  Loss:     0.0047 Validation Accuracy: 0.697600\n",
      "Epoch 23, CIFAR-10 Batch 5:  Loss:     0.0011 Validation Accuracy: 0.719600\n",
      "Epoch 24, CIFAR-10 Batch 1:  Loss:     0.0109 Validation Accuracy: 0.702000\n",
      "Epoch 24, CIFAR-10 Batch 2:  Loss:     0.0034 Validation Accuracy: 0.713800\n",
      "Epoch 24, CIFAR-10 Batch 3:  Loss:     0.0010 Validation Accuracy: 0.716000\n",
      "Epoch 24, CIFAR-10 Batch 4:  Loss:     0.0141 Validation Accuracy: 0.705600\n",
      "Epoch 24, CIFAR-10 Batch 5:  Loss:     0.0028 Validation Accuracy: 0.729000\n",
      "Epoch 25, CIFAR-10 Batch 1:  Loss:     0.0022 Validation Accuracy: 0.708000\n",
      "Epoch 25, CIFAR-10 Batch 2:  Loss:     0.0018 Validation Accuracy: 0.715400\n",
      "Epoch 25, CIFAR-10 Batch 3:  Loss:     0.0019 Validation Accuracy: 0.716200\n",
      "Epoch 25, CIFAR-10 Batch 4:  Loss:     0.0050 Validation Accuracy: 0.704600\n",
      "Epoch 25, CIFAR-10 Batch 5:  Loss:     0.0008 Validation Accuracy: 0.719400\n",
      "Epoch 26, CIFAR-10 Batch 1:  Loss:     0.0044 Validation Accuracy: 0.714800\n",
      "Epoch 26, CIFAR-10 Batch 2:  Loss:     0.0038 Validation Accuracy: 0.709400\n",
      "Epoch 26, CIFAR-10 Batch 3:  Loss:     0.0023 Validation Accuracy: 0.718000\n",
      "Epoch 26, CIFAR-10 Batch 4:  Loss:     0.0019 Validation Accuracy: 0.691600\n",
      "Epoch 26, CIFAR-10 Batch 5:  Loss:     0.0031 Validation Accuracy: 0.708000\n",
      "Epoch 27, CIFAR-10 Batch 1:  Loss:     0.0006 Validation Accuracy: 0.704600\n",
      "Epoch 27, CIFAR-10 Batch 2:  Loss:     0.0012 Validation Accuracy: 0.707000\n",
      "Epoch 27, CIFAR-10 Batch 3:  Loss:     0.0014 Validation Accuracy: 0.708600\n",
      "Epoch 27, CIFAR-10 Batch 4:  Loss:     0.0032 Validation Accuracy: 0.703600\n",
      "Epoch 27, CIFAR-10 Batch 5:  Loss:     0.0007 Validation Accuracy: 0.716400\n",
      "Epoch 28, CIFAR-10 Batch 1:  Loss:     0.0003 Validation Accuracy: 0.715400\n",
      "Epoch 28, CIFAR-10 Batch 2:  Loss:     0.0098 Validation Accuracy: 0.701000\n",
      "Epoch 28, CIFAR-10 Batch 3:  Loss:     0.0009 Validation Accuracy: 0.706200\n",
      "Epoch 28, CIFAR-10 Batch 4:  Loss:     0.0044 Validation Accuracy: 0.702400\n",
      "Epoch 28, CIFAR-10 Batch 5:  Loss:     0.0007 Validation Accuracy: 0.717600\n",
      "Epoch 29, CIFAR-10 Batch 1:  Loss:     0.0011 Validation Accuracy: 0.714400\n",
      "Epoch 29, CIFAR-10 Batch 2:  Loss:     0.0010 Validation Accuracy: 0.723000\n",
      "Epoch 29, CIFAR-10 Batch 3:  Loss:     0.0002 Validation Accuracy: 0.707800\n",
      "Epoch 29, CIFAR-10 Batch 4:  Loss:     0.0144 Validation Accuracy: 0.671000\n",
      "Epoch 29, CIFAR-10 Batch 5:  Loss:     0.0004 Validation Accuracy: 0.720800\n",
      "Epoch 30, CIFAR-10 Batch 1:  Loss:     0.0006 Validation Accuracy: 0.709000\n",
      "Epoch 30, CIFAR-10 Batch 2:  Loss:     0.0010 Validation Accuracy: 0.718800\n",
      "Epoch 30, CIFAR-10 Batch 3:  Loss:     0.0010 Validation Accuracy: 0.713200\n",
      "Epoch 30, CIFAR-10 Batch 4:  Loss:     0.0036 Validation Accuracy: 0.696400\n",
      "Epoch 30, CIFAR-10 Batch 5:  Loss:     0.0013 Validation Accuracy: 0.719800\n",
      "Epoch 31, CIFAR-10 Batch 1:  Loss:     0.0007 Validation Accuracy: 0.726600\n",
      "Epoch 31, CIFAR-10 Batch 2:  Loss:     0.0004 Validation Accuracy: 0.724000\n",
      "Epoch 31, CIFAR-10 Batch 3:  Loss:     0.0032 Validation Accuracy: 0.715600\n",
      "Epoch 31, CIFAR-10 Batch 4:  Loss:     0.0035 Validation Accuracy: 0.697200\n",
      "Epoch 31, CIFAR-10 Batch 5:  Loss:     0.0008 Validation Accuracy: 0.721800\n",
      "Epoch 32, CIFAR-10 Batch 1:  Loss:     0.0012 Validation Accuracy: 0.712400\n",
      "Epoch 32, CIFAR-10 Batch 2:  Loss:     0.0001 Validation Accuracy: 0.713000\n",
      "Epoch 32, CIFAR-10 Batch 3:  Loss:     0.0010 Validation Accuracy: 0.717800\n",
      "Epoch 32, CIFAR-10 Batch 4:  Loss:     0.0003 Validation Accuracy: 0.715800\n",
      "Epoch 32, CIFAR-10 Batch 5:  Loss:     0.0022 Validation Accuracy: 0.717800\n",
      "Epoch 33, CIFAR-10 Batch 1:  Loss:     0.0028 Validation Accuracy: 0.724400\n",
      "Epoch 33, CIFAR-10 Batch 2:  Loss:     0.0129 Validation Accuracy: 0.723800\n",
      "Epoch 33, CIFAR-10 Batch 3:  Loss:     0.0003 Validation Accuracy: 0.722600\n",
      "Epoch 33, CIFAR-10 Batch 4:  Loss:     0.0018 Validation Accuracy: 0.716200\n",
      "Epoch 33, CIFAR-10 Batch 5:  Loss:     0.0019 Validation Accuracy: 0.708000\n",
      "Epoch 34, CIFAR-10 Batch 1:  Loss:     0.0010 Validation Accuracy: 0.719000\n",
      "Epoch 34, CIFAR-10 Batch 2:  Loss:     0.0007 Validation Accuracy: 0.719400\n",
      "Epoch 34, CIFAR-10 Batch 3:  Loss:     0.0014 Validation Accuracy: 0.722800\n",
      "Epoch 34, CIFAR-10 Batch 4:  Loss:     0.0005 Validation Accuracy: 0.723400\n",
      "Epoch 34, CIFAR-10 Batch 5:  Loss:     0.0026 Validation Accuracy: 0.730600\n",
      "Epoch 35, CIFAR-10 Batch 1:  Loss:     0.0001 Validation Accuracy: 0.709600\n",
      "Epoch 35, CIFAR-10 Batch 2:  Loss:     0.0002 Validation Accuracy: 0.719600\n",
      "Epoch 35, CIFAR-10 Batch 3:  Loss:     0.0009 Validation Accuracy: 0.720400\n",
      "Epoch 35, CIFAR-10 Batch 4:  Loss:     0.0052 Validation Accuracy: 0.708800\n",
      "Epoch 35, CIFAR-10 Batch 5:  Loss:     0.0003 Validation Accuracy: 0.725000\n",
      "Epoch 36, CIFAR-10 Batch 1:  Loss:     0.0004 Validation Accuracy: 0.712600\n",
      "Epoch 36, CIFAR-10 Batch 2:  Loss:     0.0013 Validation Accuracy: 0.718600\n",
      "Epoch 36, CIFAR-10 Batch 3:  Loss:     0.0000 Validation Accuracy: 0.718000\n",
      "Epoch 36, CIFAR-10 Batch 4:  Loss:     0.0001 Validation Accuracy: 0.719400\n",
      "Epoch 36, CIFAR-10 Batch 5:  Loss:     0.0004 Validation Accuracy: 0.721400\n",
      "Epoch 37, CIFAR-10 Batch 1:  Loss:     0.0001 Validation Accuracy: 0.710400\n",
      "Epoch 37, CIFAR-10 Batch 2:  Loss:     0.0002 Validation Accuracy: 0.722200\n",
      "Epoch 37, CIFAR-10 Batch 3:  Loss:     0.0000 Validation Accuracy: 0.729200\n",
      "Epoch 37, CIFAR-10 Batch 4:  Loss:     0.0021 Validation Accuracy: 0.711600\n",
      "Epoch 37, CIFAR-10 Batch 5:  Loss:     0.0008 Validation Accuracy: 0.713200\n",
      "Epoch 38, CIFAR-10 Batch 1:  Loss:     0.0004 Validation Accuracy: 0.717200\n",
      "Epoch 38, CIFAR-10 Batch 2:  Loss:     0.0010 Validation Accuracy: 0.718400\n",
      "Epoch 38, CIFAR-10 Batch 3:  Loss:     0.0001 Validation Accuracy: 0.712400\n",
      "Epoch 38, CIFAR-10 Batch 4:  Loss:     0.0028 Validation Accuracy: 0.712000\n",
      "Epoch 38, CIFAR-10 Batch 5:  Loss:     0.0053 Validation Accuracy: 0.708400\n",
      "Epoch 39, CIFAR-10 Batch 1:  Loss:     0.0001 Validation Accuracy: 0.718000\n",
      "Epoch 39, CIFAR-10 Batch 2:  Loss:     0.0056 Validation Accuracy: 0.717200\n",
      "Epoch 39, CIFAR-10 Batch 3:  Loss:     0.0009 Validation Accuracy: 0.725800\n",
      "Epoch 39, CIFAR-10 Batch 4:  Loss:     0.0000 Validation Accuracy: 0.711800\n",
      "Epoch 39, CIFAR-10 Batch 5:  Loss:     0.0002 Validation Accuracy: 0.724400\n",
      "Epoch 40, CIFAR-10 Batch 1:  Loss:     0.0003 Validation Accuracy: 0.710200\n",
      "Epoch 40, CIFAR-10 Batch 2:  Loss:     0.0010 Validation Accuracy: 0.716000\n",
      "Epoch 40, CIFAR-10 Batch 3:  Loss:     0.0022 Validation Accuracy: 0.718600\n",
      "Epoch 40, CIFAR-10 Batch 4:  Loss:     0.0006 Validation Accuracy: 0.705600\n",
      "Epoch 40, CIFAR-10 Batch 5:  Loss:     0.0003 Validation Accuracy: 0.720600\n",
      "Epoch 41, CIFAR-10 Batch 1:  Loss:     0.0014 Validation Accuracy: 0.701200\n",
      "Epoch 41, CIFAR-10 Batch 2:  Loss:     0.0028 Validation Accuracy: 0.722000\n",
      "Epoch 41, CIFAR-10 Batch 3:  Loss:     0.0001 Validation Accuracy: 0.721400\n",
      "Epoch 41, CIFAR-10 Batch 4:  Loss:     0.0014 Validation Accuracy: 0.726200\n",
      "Epoch 41, CIFAR-10 Batch 5:  Loss:     0.0004 Validation Accuracy: 0.732200\n",
      "Epoch 42, CIFAR-10 Batch 1:  Loss:     0.0002 Validation Accuracy: 0.693400\n",
      "Epoch 42, CIFAR-10 Batch 2:  Loss:     0.0007 Validation Accuracy: 0.735600\n",
      "Epoch 42, CIFAR-10 Batch 3:  Loss:     0.0004 Validation Accuracy: 0.733600\n",
      "Epoch 42, CIFAR-10 Batch 4:  Loss:     0.0003 Validation Accuracy: 0.723600\n",
      "Epoch 42, CIFAR-10 Batch 5:  Loss:     0.0004 Validation Accuracy: 0.722800\n",
      "Epoch 43, CIFAR-10 Batch 1:  Loss:     0.0137 Validation Accuracy: 0.693800\n",
      "Epoch 43, CIFAR-10 Batch 2:  Loss:     0.0003 Validation Accuracy: 0.723200\n",
      "Epoch 43, CIFAR-10 Batch 3:  Loss:     0.0002 Validation Accuracy: 0.729200\n",
      "Epoch 43, CIFAR-10 Batch 4:  Loss:     0.0037 Validation Accuracy: 0.715600\n",
      "Epoch 43, CIFAR-10 Batch 5:  Loss:     0.0004 Validation Accuracy: 0.720000\n",
      "Epoch 44, CIFAR-10 Batch 1:  Loss:     0.0001 Validation Accuracy: 0.704400\n",
      "Epoch 44, CIFAR-10 Batch 2:  Loss:     0.0001 Validation Accuracy: 0.726600\n",
      "Epoch 44, CIFAR-10 Batch 3:  Loss:     0.0000 Validation Accuracy: 0.722600\n",
      "Epoch 44, CIFAR-10 Batch 4:  Loss:     0.0004 Validation Accuracy: 0.729400\n",
      "Epoch 44, CIFAR-10 Batch 5:  Loss:     0.0002 Validation Accuracy: 0.721000\n",
      "Epoch 45, CIFAR-10 Batch 1:  Loss:     0.0002 Validation Accuracy: 0.723400\n",
      "Epoch 45, CIFAR-10 Batch 2:  Loss:     0.0013 Validation Accuracy: 0.718000\n",
      "Epoch 45, CIFAR-10 Batch 3:  Loss:     0.0002 Validation Accuracy: 0.728600\n",
      "Epoch 45, CIFAR-10 Batch 4:  Loss:     0.0001 Validation Accuracy: 0.712800\n",
      "Epoch 45, CIFAR-10 Batch 5:  Loss:     0.0007 Validation Accuracy: 0.710600\n",
      "Epoch 46, CIFAR-10 Batch 1:  Loss:     0.0000 Validation Accuracy: 0.724000\n",
      "Epoch 46, CIFAR-10 Batch 2:  Loss:     0.0003 Validation Accuracy: 0.720800\n",
      "Epoch 46, CIFAR-10 Batch 3:  Loss:     0.0004 Validation Accuracy: 0.726400\n",
      "Epoch 46, CIFAR-10 Batch 4:  Loss:     0.0000 Validation Accuracy: 0.726200\n",
      "Epoch 46, CIFAR-10 Batch 5:  Loss:     0.0005 Validation Accuracy: 0.721000\n",
      "Epoch 47, CIFAR-10 Batch 1:  Loss:     0.0007 Validation Accuracy: 0.722200\n",
      "Epoch 47, CIFAR-10 Batch 2:  Loss:     0.0004 Validation Accuracy: 0.723000\n",
      "Epoch 47, CIFAR-10 Batch 3:  Loss:     0.0003 Validation Accuracy: 0.725800\n",
      "Epoch 47, CIFAR-10 Batch 4:  Loss:     0.0005 Validation Accuracy: 0.721800\n",
      "Epoch 47, CIFAR-10 Batch 5:  Loss:     0.0125 Validation Accuracy: 0.715800\n",
      "Epoch 48, CIFAR-10 Batch 1:  Loss:     0.0009 Validation Accuracy: 0.699000\n",
      "Epoch 48, CIFAR-10 Batch 2:  Loss:     0.0038 Validation Accuracy: 0.728000\n",
      "Epoch 48, CIFAR-10 Batch 3:  Loss:     0.0003 Validation Accuracy: 0.729800\n",
      "Epoch 48, CIFAR-10 Batch 4:  Loss:     0.0009 Validation Accuracy: 0.722600\n",
      "Epoch 48, CIFAR-10 Batch 5:  Loss:     0.0004 Validation Accuracy: 0.721400\n",
      "Epoch 49, CIFAR-10 Batch 1:  Loss:     0.0016 Validation Accuracy: 0.708400\n",
      "Epoch 49, CIFAR-10 Batch 2:  Loss:     0.0002 Validation Accuracy: 0.717000\n",
      "Epoch 49, CIFAR-10 Batch 3:  Loss:     0.0001 Validation Accuracy: 0.724600\n",
      "Epoch 49, CIFAR-10 Batch 4:  Loss:     0.0007 Validation Accuracy: 0.721400\n",
      "Epoch 49, CIFAR-10 Batch 5:  Loss:     0.0001 Validation Accuracy: 0.719200\n",
      "Epoch 50, CIFAR-10 Batch 1:  Loss:     0.0013 Validation Accuracy: 0.721800\n",
      "Epoch 50, CIFAR-10 Batch 2:  Loss:     0.0039 Validation Accuracy: 0.725200\n",
      "Epoch 50, CIFAR-10 Batch 3:  Loss:     0.0041 Validation Accuracy: 0.720600\n",
      "Epoch 50, CIFAR-10 Batch 4:  Loss:     0.0008 Validation Accuracy: 0.720600\n",
      "Epoch 50, CIFAR-10 Batch 5:  Loss:     0.0000 Validation Accuracy: 0.726400\n",
      "Epoch 51, CIFAR-10 Batch 1:  Loss:     0.0016 Validation Accuracy: 0.733200\n",
      "Epoch 51, CIFAR-10 Batch 2:  Loss:     0.0001 Validation Accuracy: 0.716800\n",
      "Epoch 51, CIFAR-10 Batch 3:  Loss:     0.0000 Validation Accuracy: 0.719600\n",
      "Epoch 51, CIFAR-10 Batch 4:  Loss:     0.0022 Validation Accuracy: 0.722400\n",
      "Epoch 51, CIFAR-10 Batch 5:  Loss:     0.0030 Validation Accuracy: 0.710800\n",
      "Epoch 52, CIFAR-10 Batch 1:  Loss:     0.0013 Validation Accuracy: 0.717600\n",
      "Epoch 52, CIFAR-10 Batch 2:  Loss:     0.0002 Validation Accuracy: 0.726000\n",
      "Epoch 52, CIFAR-10 Batch 3:  Loss:     0.0005 Validation Accuracy: 0.727800\n",
      "Epoch 52, CIFAR-10 Batch 4:  Loss:     0.0008 Validation Accuracy: 0.718200\n",
      "Epoch 52, CIFAR-10 Batch 5:  Loss:     0.0005 Validation Accuracy: 0.725400\n",
      "Epoch 53, CIFAR-10 Batch 1:  Loss:     0.0004 Validation Accuracy: 0.724200\n",
      "Epoch 53, CIFAR-10 Batch 2:  Loss:     0.0021 Validation Accuracy: 0.714600\n",
      "Epoch 53, CIFAR-10 Batch 3:  Loss:     0.0007 Validation Accuracy: 0.724400\n",
      "Epoch 53, CIFAR-10 Batch 4:  Loss:     0.0005 Validation Accuracy: 0.715200\n",
      "Epoch 53, CIFAR-10 Batch 5:  Loss:     0.0001 Validation Accuracy: 0.730600\n",
      "Epoch 54, CIFAR-10 Batch 1:  Loss:     0.0014 Validation Accuracy: 0.738000\n",
      "Epoch 54, CIFAR-10 Batch 2:  Loss:     0.0012 Validation Accuracy: 0.715400\n",
      "Epoch 54, CIFAR-10 Batch 3:  Loss:     0.0001 Validation Accuracy: 0.731200\n",
      "Epoch 54, CIFAR-10 Batch 4:  Loss:     0.0001 Validation Accuracy: 0.722400\n",
      "Epoch 54, CIFAR-10 Batch 5:  Loss:     0.0002 Validation Accuracy: 0.727400\n",
      "Epoch 55, CIFAR-10 Batch 1:  Loss:     0.0002 Validation Accuracy: 0.724600\n",
      "Epoch 55, CIFAR-10 Batch 2:  Loss:     0.0000 Validation Accuracy: 0.711000\n",
      "Epoch 55, CIFAR-10 Batch 3:  Loss:     0.0001 Validation Accuracy: 0.719000\n",
      "Epoch 55, CIFAR-10 Batch 4:  Loss:     0.0006 Validation Accuracy: 0.720200\n",
      "Epoch 55, CIFAR-10 Batch 5:  Loss:     0.0014 Validation Accuracy: 0.718800\n",
      "Epoch 56, CIFAR-10 Batch 1:  Loss:     0.0025 Validation Accuracy: 0.727400\n",
      "Epoch 56, CIFAR-10 Batch 2:  Loss:     0.0002 Validation Accuracy: 0.695400\n",
      "Epoch 56, CIFAR-10 Batch 3:  Loss:     0.0004 Validation Accuracy: 0.727200\n",
      "Epoch 56, CIFAR-10 Batch 4:  Loss:     0.0007 Validation Accuracy: 0.721000\n",
      "Epoch 56, CIFAR-10 Batch 5:  Loss:     0.0005 Validation Accuracy: 0.721800\n",
      "Epoch 57, CIFAR-10 Batch 1:  Loss:     0.0021 Validation Accuracy: 0.710000\n",
      "Epoch 57, CIFAR-10 Batch 2:  Loss:     0.0001 Validation Accuracy: 0.716000\n",
      "Epoch 57, CIFAR-10 Batch 3:  Loss:     0.0004 Validation Accuracy: 0.724800\n",
      "Epoch 57, CIFAR-10 Batch 4:  Loss:     0.0009 Validation Accuracy: 0.713000\n",
      "Epoch 57, CIFAR-10 Batch 5:  Loss:     0.0033 Validation Accuracy: 0.726200\n",
      "Epoch 58, CIFAR-10 Batch 1:  Loss:     0.0015 Validation Accuracy: 0.727600\n",
      "Epoch 58, CIFAR-10 Batch 2:  Loss:     0.0000 Validation Accuracy: 0.723200\n",
      "Epoch 58, CIFAR-10 Batch 3:  Loss:     0.0004 Validation Accuracy: 0.717800\n",
      "Epoch 58, CIFAR-10 Batch 4:  Loss:     0.0004 Validation Accuracy: 0.720800\n",
      "Epoch 58, CIFAR-10 Batch 5:  Loss:     0.0004 Validation Accuracy: 0.727800\n",
      "Epoch 59, CIFAR-10 Batch 1:  Loss:     0.0129 Validation Accuracy: 0.721800\n",
      "Epoch 59, CIFAR-10 Batch 2:  Loss:     0.0007 Validation Accuracy: 0.722800\n",
      "Epoch 59, CIFAR-10 Batch 3:  Loss:     0.0000 Validation Accuracy: 0.718400\n",
      "Epoch 59, CIFAR-10 Batch 4:  Loss:     0.0024 Validation Accuracy: 0.722600\n",
      "Epoch 59, CIFAR-10 Batch 5:  Loss:     0.0002 Validation Accuracy: 0.714600\n",
      "Epoch 60, CIFAR-10 Batch 1:  Loss:     0.0000 Validation Accuracy: 0.716800\n",
      "Epoch 60, CIFAR-10 Batch 2:  Loss:     0.0001 Validation Accuracy: 0.717000\n",
      "Epoch 60, CIFAR-10 Batch 3:  Loss:     0.0001 Validation Accuracy: 0.719600\n",
      "Epoch 60, CIFAR-10 Batch 4:  Loss:     0.0002 Validation Accuracy: 0.726200\n",
      "Epoch 60, CIFAR-10 Batch 5:  Loss:     0.0000 Validation Accuracy: 0.732800\n",
      "Epoch 61, CIFAR-10 Batch 1:  Loss:     0.0001 Validation Accuracy: 0.724400\n",
      "Epoch 61, CIFAR-10 Batch 2:  Loss:     0.0037 Validation Accuracy: 0.709000\n",
      "Epoch 61, CIFAR-10 Batch 3:  Loss:     0.0003 Validation Accuracy: 0.723000\n",
      "Epoch 61, CIFAR-10 Batch 4:  Loss:     0.0001 Validation Accuracy: 0.727000\n",
      "Epoch 61, CIFAR-10 Batch 5:  Loss:     0.0002 Validation Accuracy: 0.719400\n",
      "Epoch 62, CIFAR-10 Batch 1:  Loss:     0.0001 Validation Accuracy: 0.728000\n",
      "Epoch 62, CIFAR-10 Batch 2:  Loss:     0.0028 Validation Accuracy: 0.718200\n",
      "Epoch 62, CIFAR-10 Batch 3:  Loss:     0.0000 Validation Accuracy: 0.717200\n",
      "Epoch 62, CIFAR-10 Batch 4:  Loss:     0.0012 Validation Accuracy: 0.731000\n",
      "Epoch 62, CIFAR-10 Batch 5:  Loss:     0.0000 Validation Accuracy: 0.720000\n",
      "Epoch 63, CIFAR-10 Batch 1:  Loss:     0.0019 Validation Accuracy: 0.716400\n",
      "Epoch 63, CIFAR-10 Batch 2:  Loss:     0.0001 Validation Accuracy: 0.712600\n",
      "Epoch 63, CIFAR-10 Batch 3:  Loss:     0.0001 Validation Accuracy: 0.712600\n",
      "Epoch 63, CIFAR-10 Batch 4:  Loss:     0.0022 Validation Accuracy: 0.717400\n",
      "Epoch 63, CIFAR-10 Batch 5:  Loss:     0.0038 Validation Accuracy: 0.708600\n",
      "Epoch 64, CIFAR-10 Batch 1:  Loss:     0.0009 Validation Accuracy: 0.714200\n",
      "Epoch 64, CIFAR-10 Batch 2:  Loss:     0.0002 Validation Accuracy: 0.721200\n",
      "Epoch 64, CIFAR-10 Batch 3:  Loss:     0.0000 Validation Accuracy: 0.724800\n",
      "Epoch 64, CIFAR-10 Batch 4:  Loss:     0.0003 Validation Accuracy: 0.720200\n",
      "Epoch 64, CIFAR-10 Batch 5:  Loss:     0.0001 Validation Accuracy: 0.720200\n"
     ]
    }
   ],
   "source": [
    "\"\"\"\n",
    "DON'T MODIFY ANYTHING IN THIS CELL\n",
    "\"\"\"\n",
    "save_model_path = './image_classification'\n",
    "\n",
    "print('Training...')\n",
    "with tf.Session() as sess:\n",
    "    # Initializing the variables\n",
    "    sess.run(tf.global_variables_initializer())\n",
    "    \n",
    "    # Training cycle\n",
    "    for epoch in range(epochs):\n",
    "        # Loop over all batches\n",
    "        n_batches = 5\n",
    "        for batch_i in range(1, n_batches + 1):\n",
    "            for batch_features, batch_labels in helper.load_preprocess_training_batch(batch_i, batch_size):\n",
    "                train_neural_network(sess, optimizer, keep_probability, batch_features, batch_labels)\n",
    "            print('Epoch {:>2}, CIFAR-10 Batch {}:  '.format(epoch + 1, batch_i), end='')\n",
    "            print_stats(sess, batch_features, batch_labels, cost, accuracy)\n",
    "            \n",
    "    # Save Model\n",
    "    saver = tf.train.Saver()\n",
    "    save_path = saver.save(sess, save_model_path)"
   ]
  },
  {
   "cell_type": "markdown",
   "metadata": {
    "deletable": true,
    "editable": true
   },
   "source": [
    "# Checkpoint\n",
    "The model has been saved to disk.\n",
    "## Test Model\n",
    "Test your model against the test dataset.  This will be your final accuracy. You should have an accuracy greater than 50%. If you don't, keep tweaking the model architecture and parameters."
   ]
  },
  {
   "cell_type": "markdown",
   "metadata": {
    "deletable": true,
    "editable": true
   },
   "source": [
    "# 检查点\n",
    "\n",
    "该模型已经被存储到你的硬盘中。\n",
    "\n",
    "## 测试模型\n",
    "\n",
    "这部分将在测试数据集上测试你的模型。这边得到的准确率将作为你的最终准确率。你应该得到一个高于 50% 准确率。如果它没有超过 50%，那么你需要继续调整模型架构及参数。"
   ]
  },
  {
   "cell_type": "code",
   "execution_count": 20,
   "metadata": {
    "collapsed": false,
    "deletable": true,
    "editable": true
   },
   "outputs": [
    {
     "name": "stdout",
     "output_type": "stream",
     "text": [
      "INFO:tensorflow:Restoring parameters from ./image_classification\n",
      "Testing Accuracy: 0.7069818037974683\n",
      "\n"
     ]
    },
    {
     "data": {
      "image/png": "[encoded data removed]",
      "text/plain": [
       "<matplotlib.figure.Figure at 0x2449e769eb8>"
      ]
     },
     "metadata": {
      "image/png": {
       "height": 319,
       "width": 351
      }
     },
     "output_type": "display_data"
    }
   ],
   "source": [
    "\"\"\"\n",
    "DON'T MODIFY ANYTHING IN THIS CELL\n",
    "\"\"\"\n",
    "%matplotlib inline\n",
    "%config InlineBackend.figure_format = 'retina'\n",
    "\n",
    "import tensorflow as tf\n",
    "import pickle\n",
    "import helper\n",
    "import random\n",
    "\n",
    "# Set batch size if not already set\n",
    "try:\n",
    "    if batch_size:\n",
    "        pass\n",
    "except NameError:\n",
    "    batch_size = 64\n",
    "\n",
    "save_model_path = './image_classification'\n",
    "n_samples = 4\n",
    "top_n_predictions = 3\n",
    "\n",
    "def test_model():\n",
    "    \"\"\"\n",
    "    Test the saved model against the test dataset\n",
    "    \"\"\"\n",
    "\n",
    "    test_features, test_labels = pickle.load(open('preprocess_training.p', mode='rb'))\n",
    "    loaded_graph = tf.Graph()\n",
    "\n",
    "    with tf.Session(graph=loaded_graph) as sess:\n",
    "        # Load model\n",
    "        loader = tf.train.import_meta_graph(save_model_path + '.meta')\n",
    "        loader.restore(sess, save_model_path)\n",
    "\n",
    "        # Get Tensors from loaded model\n",
    "        loaded_x = loaded_graph.get_tensor_by_name('x:0')\n",
    "        loaded_y = loaded_graph.get_tensor_by_name('y:0')\n",
    "        loaded_keep_prob = loaded_graph.get_tensor_by_name('keep_prob:0')\n",
    "        loaded_logits = loaded_graph.get_tensor_by_name('logits:0')\n",
    "        loaded_acc = loaded_graph.get_tensor_by_name('accuracy:0')\n",
    "        \n",
    "        # Get accuracy in batches for memory limitations\n",
    "        test_batch_acc_total = 0\n",
    "        test_batch_count = 0\n",
    "        \n",
    "        for train_feature_batch, train_label_batch in helper.batch_features_labels(test_features, test_labels, batch_size):\n",
    "            test_batch_acc_total += sess.run(\n",
    "                loaded_acc,\n",
    "                feed_dict={loaded_x: train_feature_batch, loaded_y: train_label_batch, loaded_keep_prob: 1.0})\n",
    "            test_batch_count += 1\n",
    "\n",
    "        print('Testing Accuracy: {}\\n'.format(test_batch_acc_total/test_batch_count))\n",
    "\n",
    "        # Print Random Samples\n",
    "        random_test_features, random_test_labels = tuple(zip(*random.sample(list(zip(test_features, test_labels)), n_samples)))\n",
    "        random_test_predictions = sess.run(\n",
    "            tf.nn.top_k(tf.nn.softmax(loaded_logits), top_n_predictions),\n",
    "            feed_dict={loaded_x: random_test_features, loaded_y: random_test_labels, loaded_keep_prob: 1.0})\n",
    "        helper.display_image_predictions(random_test_features, random_test_labels, random_test_predictions)\n",
    "\n",
    "\n",
    "test_model()"
   ]
  },
  {
   "cell_type": "markdown",
   "metadata": {
    "deletable": true,
    "editable": true
   },
   "source": [
    "## Why 50-80% Accuracy?\n",
    "You might be wondering why you can't get an accuracy any higher. First things first, 50% isn't bad for a simple CNN.  Pure guessing would get you 10% accuracy. That's because there are many more techniques that can be applied to your model and we recemmond that once you are done with this project, you explore!\n",
    "\n",
    "## Submitting This Project\n",
    "When submitting this project, make sure to run all the cells before saving the notebook.  Save the notebook file as \"image_classification.ipynb\" and save it as a HTML file under \"File\" -> \"Download as\".  Include the \"helper.py\" and \"problem_unittests.py\" files in your submission."
   ]
  },
  {
   "cell_type": "markdown",
   "metadata": {
    "deletable": true,
    "editable": true
   },
   "source": [
    "## 为什么仅有 50%~ 80% 的准确率？\n",
    "\n",
    "你也许会觉得奇怪，为什么你的准确率总是提高不上去。对于简单的 CNN 网络而言，50% 并非是很差的表现。纯粹的猜测只会得到 10% 的准确率（因为一共有 10 类）。这是因为还有许多许多能够应用到你模型的技巧。在你做完了该项目之后，你可以探索探索我们给你推荐的一些方法。\n",
    "\n",
    "\n",
    "## 提交该项目\n",
    "\n",
    "在提交项目前，请确保你在运行了所有的 cell 之后保存了项目。将项目储存为 \"image_classification.ipynb\" 并导出为一个 HTML 文件。你可以再菜单栏中选择 File -> Download as 进行导出。请将 \"helper.py\" 及  \"problem_unittests.py\" 文件也放在你的提交文件中。"
   ]
  },
  {
   "cell_type": "code",
   "execution_count": null,
   "metadata": {
    "collapsed": true,
    "deletable": true,
    "editable": true
   },
   "outputs": [],
   "source": []
  }
 ],
 "metadata": {
  "anaconda-cloud": {},
  "kernelspec": {
   "display_name": "Python 3",
   "language": "python",
   "name": "python3"
  },
  "language_info": {
   "codemirror_mode": {
    "name": "ipython",
    "version": 3
   },
   "file_extension": ".py",
   "mimetype": "text/x-python",
   "name": "python",
   "nbconvert_exporter": "python",
   "pygments_lexer": "ipython3",
   "version": "3.6.0"
  }
 },
 "nbformat": 4,
 "nbformat_minor": 0
}
